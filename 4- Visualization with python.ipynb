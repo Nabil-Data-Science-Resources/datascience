{
 "cells": [
  {
   "cell_type": "markdown",
   "id": "fedc5201",
   "metadata": {},
   "source": [
    "# <font color='red'> Visulatization of dataframes in python\n",
    "***\n",
    "***"
   ]
  },
  {
   "cell_type": "markdown",
   "id": "d0b66913",
   "metadata": {},
   "source": [
    "## <font color='blue'>1 Clean and prepare dataframe"
   ]
  },
  {
   "cell_type": "markdown",
   "id": "9f7dd99e",
   "metadata": {},
   "source": [
    "### <font color='green'>1.1 Import Packages"
   ]
  },
  {
   "cell_type": "code",
   "execution_count": 3,
   "id": "4367ebed",
   "metadata": {},
   "outputs": [],
   "source": [
    "import pandas as pd"
   ]
  },
  {
   "cell_type": "markdown",
   "id": "9adf98cd",
   "metadata": {},
   "source": [
    "### <font color='green'>1.2 Import your source of data into a dataframe"
   ]
  },
  {
   "cell_type": "code",
   "execution_count": 4,
   "id": "545338b4",
   "metadata": {},
   "outputs": [
    {
     "data": {
      "text/html": [
       "<div>\n",
       "<style scoped>\n",
       "    .dataframe tbody tr th:only-of-type {\n",
       "        vertical-align: middle;\n",
       "    }\n",
       "\n",
       "    .dataframe tbody tr th {\n",
       "        vertical-align: top;\n",
       "    }\n",
       "\n",
       "    .dataframe thead th {\n",
       "        text-align: right;\n",
       "    }\n",
       "</style>\n",
       "<table border=\"1\" class=\"dataframe\">\n",
       "  <thead>\n",
       "    <tr style=\"text-align: right;\">\n",
       "      <th></th>\n",
       "      <th>iso_code</th>\n",
       "      <th>continent</th>\n",
       "      <th>location</th>\n",
       "      <th>date</th>\n",
       "      <th>total_cases</th>\n",
       "      <th>new_cases</th>\n",
       "      <th>new_cases_smoothed</th>\n",
       "      <th>total_deaths</th>\n",
       "      <th>new_deaths</th>\n",
       "      <th>new_deaths_smoothed</th>\n",
       "      <th>...</th>\n",
       "      <th>extreme_poverty</th>\n",
       "      <th>cardiovasc_death_rate</th>\n",
       "      <th>diabetes_prevalence</th>\n",
       "      <th>female_smokers</th>\n",
       "      <th>male_smokers</th>\n",
       "      <th>handwashing_facilities</th>\n",
       "      <th>hospital_beds_per_thousand</th>\n",
       "      <th>life_expectancy</th>\n",
       "      <th>human_development_index</th>\n",
       "      <th>excess_mortality</th>\n",
       "    </tr>\n",
       "  </thead>\n",
       "  <tbody>\n",
       "    <tr>\n",
       "      <th>0</th>\n",
       "      <td>AFG</td>\n",
       "      <td>Asia</td>\n",
       "      <td>Afghanistan</td>\n",
       "      <td>2020-02-24</td>\n",
       "      <td>1.0</td>\n",
       "      <td>1.0</td>\n",
       "      <td>NaN</td>\n",
       "      <td>NaN</td>\n",
       "      <td>NaN</td>\n",
       "      <td>NaN</td>\n",
       "      <td>...</td>\n",
       "      <td>NaN</td>\n",
       "      <td>597.029</td>\n",
       "      <td>9.59</td>\n",
       "      <td>NaN</td>\n",
       "      <td>NaN</td>\n",
       "      <td>37.746</td>\n",
       "      <td>0.5</td>\n",
       "      <td>64.83</td>\n",
       "      <td>0.511</td>\n",
       "      <td>NaN</td>\n",
       "    </tr>\n",
       "    <tr>\n",
       "      <th>1</th>\n",
       "      <td>AFG</td>\n",
       "      <td>Asia</td>\n",
       "      <td>Afghanistan</td>\n",
       "      <td>2020-02-25</td>\n",
       "      <td>1.0</td>\n",
       "      <td>0.0</td>\n",
       "      <td>NaN</td>\n",
       "      <td>NaN</td>\n",
       "      <td>NaN</td>\n",
       "      <td>NaN</td>\n",
       "      <td>...</td>\n",
       "      <td>NaN</td>\n",
       "      <td>597.029</td>\n",
       "      <td>9.59</td>\n",
       "      <td>NaN</td>\n",
       "      <td>NaN</td>\n",
       "      <td>37.746</td>\n",
       "      <td>0.5</td>\n",
       "      <td>64.83</td>\n",
       "      <td>0.511</td>\n",
       "      <td>NaN</td>\n",
       "    </tr>\n",
       "    <tr>\n",
       "      <th>2</th>\n",
       "      <td>AFG</td>\n",
       "      <td>Asia</td>\n",
       "      <td>Afghanistan</td>\n",
       "      <td>2020-02-26</td>\n",
       "      <td>1.0</td>\n",
       "      <td>0.0</td>\n",
       "      <td>NaN</td>\n",
       "      <td>NaN</td>\n",
       "      <td>NaN</td>\n",
       "      <td>NaN</td>\n",
       "      <td>...</td>\n",
       "      <td>NaN</td>\n",
       "      <td>597.029</td>\n",
       "      <td>9.59</td>\n",
       "      <td>NaN</td>\n",
       "      <td>NaN</td>\n",
       "      <td>37.746</td>\n",
       "      <td>0.5</td>\n",
       "      <td>64.83</td>\n",
       "      <td>0.511</td>\n",
       "      <td>NaN</td>\n",
       "    </tr>\n",
       "    <tr>\n",
       "      <th>3</th>\n",
       "      <td>AFG</td>\n",
       "      <td>Asia</td>\n",
       "      <td>Afghanistan</td>\n",
       "      <td>2020-02-27</td>\n",
       "      <td>1.0</td>\n",
       "      <td>0.0</td>\n",
       "      <td>NaN</td>\n",
       "      <td>NaN</td>\n",
       "      <td>NaN</td>\n",
       "      <td>NaN</td>\n",
       "      <td>...</td>\n",
       "      <td>NaN</td>\n",
       "      <td>597.029</td>\n",
       "      <td>9.59</td>\n",
       "      <td>NaN</td>\n",
       "      <td>NaN</td>\n",
       "      <td>37.746</td>\n",
       "      <td>0.5</td>\n",
       "      <td>64.83</td>\n",
       "      <td>0.511</td>\n",
       "      <td>NaN</td>\n",
       "    </tr>\n",
       "    <tr>\n",
       "      <th>4</th>\n",
       "      <td>AFG</td>\n",
       "      <td>Asia</td>\n",
       "      <td>Afghanistan</td>\n",
       "      <td>2020-02-28</td>\n",
       "      <td>1.0</td>\n",
       "      <td>0.0</td>\n",
       "      <td>NaN</td>\n",
       "      <td>NaN</td>\n",
       "      <td>NaN</td>\n",
       "      <td>NaN</td>\n",
       "      <td>...</td>\n",
       "      <td>NaN</td>\n",
       "      <td>597.029</td>\n",
       "      <td>9.59</td>\n",
       "      <td>NaN</td>\n",
       "      <td>NaN</td>\n",
       "      <td>37.746</td>\n",
       "      <td>0.5</td>\n",
       "      <td>64.83</td>\n",
       "      <td>0.511</td>\n",
       "      <td>NaN</td>\n",
       "    </tr>\n",
       "  </tbody>\n",
       "</table>\n",
       "<p>5 rows × 60 columns</p>\n",
       "</div>"
      ],
      "text/plain": [
       "  iso_code continent     location        date  total_cases  new_cases  \\\n",
       "0      AFG      Asia  Afghanistan  2020-02-24          1.0        1.0   \n",
       "1      AFG      Asia  Afghanistan  2020-02-25          1.0        0.0   \n",
       "2      AFG      Asia  Afghanistan  2020-02-26          1.0        0.0   \n",
       "3      AFG      Asia  Afghanistan  2020-02-27          1.0        0.0   \n",
       "4      AFG      Asia  Afghanistan  2020-02-28          1.0        0.0   \n",
       "\n",
       "   new_cases_smoothed  total_deaths  new_deaths  new_deaths_smoothed  ...  \\\n",
       "0                 NaN           NaN         NaN                  NaN  ...   \n",
       "1                 NaN           NaN         NaN                  NaN  ...   \n",
       "2                 NaN           NaN         NaN                  NaN  ...   \n",
       "3                 NaN           NaN         NaN                  NaN  ...   \n",
       "4                 NaN           NaN         NaN                  NaN  ...   \n",
       "\n",
       "   extreme_poverty  cardiovasc_death_rate  diabetes_prevalence  \\\n",
       "0              NaN                597.029                 9.59   \n",
       "1              NaN                597.029                 9.59   \n",
       "2              NaN                597.029                 9.59   \n",
       "3              NaN                597.029                 9.59   \n",
       "4              NaN                597.029                 9.59   \n",
       "\n",
       "   female_smokers  male_smokers  handwashing_facilities  \\\n",
       "0             NaN           NaN                  37.746   \n",
       "1             NaN           NaN                  37.746   \n",
       "2             NaN           NaN                  37.746   \n",
       "3             NaN           NaN                  37.746   \n",
       "4             NaN           NaN                  37.746   \n",
       "\n",
       "   hospital_beds_per_thousand  life_expectancy  human_development_index  \\\n",
       "0                         0.5            64.83                    0.511   \n",
       "1                         0.5            64.83                    0.511   \n",
       "2                         0.5            64.83                    0.511   \n",
       "3                         0.5            64.83                    0.511   \n",
       "4                         0.5            64.83                    0.511   \n",
       "\n",
       "   excess_mortality  \n",
       "0               NaN  \n",
       "1               NaN  \n",
       "2               NaN  \n",
       "3               NaN  \n",
       "4               NaN  \n",
       "\n",
       "[5 rows x 60 columns]"
      ]
     },
     "execution_count": 4,
     "metadata": {},
     "output_type": "execute_result"
    }
   ],
   "source": [
    "dfcovid = pd.read_csv('https://covid.ourworldindata.org/data/owid-covid-data.csv')\n",
    "dfcovid.head()"
   ]
  },
  {
   "cell_type": "markdown",
   "id": "0e42977a",
   "metadata": {},
   "source": [
    "### <font color='green'>1.3 view columns and types"
   ]
  },
  {
   "cell_type": "code",
   "execution_count": null,
   "id": "d0ba12b4",
   "metadata": {},
   "outputs": [],
   "source": [
    "dfcovid.dtypes"
   ]
  },
  {
   "cell_type": "markdown",
   "id": "2586e5a7",
   "metadata": {},
   "source": [
    "### <font color='green'>1.4 Remove the fields not needed and keep only the fields of interest"
   ]
  },
  {
   "cell_type": "code",
   "execution_count": null,
   "id": "88fb0637",
   "metadata": {},
   "outputs": [],
   "source": [
    "dfcovid.drop(['new_cases_smoothed','new_deaths_smoothed','new_cases_smoothed_per_million','new_deaths_smoothed_per_million',\n",
    "             'new_vaccinations_smoothed_per_million','new_vaccinations_smoothed','new_tests_smoothed',\n",
    "              'new_tests_smoothed_per_thousand'],axis=1,inplace=True)\n",
    "dfcovid.head()"
   ]
  },
  {
   "cell_type": "markdown",
   "id": "3e4970ec",
   "metadata": {},
   "source": [
    "### <font color='green'>1.5 Rename columns to names your prefer"
   ]
  },
  {
   "cell_type": "markdown",
   "id": "bcbe661e",
   "metadata": {},
   "source": [
    "#### <font color='purple'>1.5.1 Use replace if you only want to take the dashes"
   ]
  },
  {
   "cell_type": "code",
   "execution_count": 7,
   "id": "d33cba77",
   "metadata": {},
   "outputs": [
    {
     "name": "stdout",
     "output_type": "stream",
     "text": [
      "<class 'pandas.core.frame.DataFrame'>\n",
      "RangeIndex: 103347 entries, 0 to 103346\n",
      "Data columns (total 60 columns):\n",
      " #   Column                                 Non-Null Count   Dtype  \n",
      "---  ------                                 --------------   -----  \n",
      " 0   iso code                               103347 non-null  object \n",
      " 1   continent                              98525 non-null   object \n",
      " 2   location                               103347 non-null  object \n",
      " 3   date                                   103347 non-null  object \n",
      " 4   total cases                            99398 non-null   float64\n",
      " 5   new cases                              99395 non-null   float64\n",
      " 6   new cases smoothed                     98385 non-null   float64\n",
      " 7   total deaths                           89147 non-null   float64\n",
      " 8   new deaths                             89303 non-null   float64\n",
      " 9   new deaths smoothed                    98385 non-null   float64\n",
      " 10  total cases per million                98870 non-null   float64\n",
      " 11  new cases per million                  98867 non-null   float64\n",
      " 12  new cases smoothed per million         97862 non-null   float64\n",
      " 13  total deaths per million               88632 non-null   float64\n",
      " 14  new deaths per million                 88788 non-null   float64\n",
      " 15  new deaths smoothed per million        97862 non-null   float64\n",
      " 16  reproduction rate                      82967 non-null   float64\n",
      " 17  icu patients                           10706 non-null   float64\n",
      " 18  icu patients per million               10706 non-null   float64\n",
      " 19  hosp patients                          12931 non-null   float64\n",
      " 20  hosp patients per million              12931 non-null   float64\n",
      " 21  weekly icu admissions                  952 non-null     float64\n",
      " 22  weekly icu admissions per million      952 non-null     float64\n",
      " 23  weekly hosp admissions                 1617 non-null    float64\n",
      " 24  weekly hosp admissions per million     1617 non-null    float64\n",
      " 25  new tests                              46155 non-null   float64\n",
      " 26  total tests                            45813 non-null   float64\n",
      " 27  total tests per thousand               45813 non-null   float64\n",
      " 28  new tests per thousand                 46155 non-null   float64\n",
      " 29  new tests smoothed                     53734 non-null   float64\n",
      " 30  new tests smoothed per thousand        53734 non-null   float64\n",
      " 31  positive rate                          50221 non-null   float64\n",
      " 32  tests per case                         49591 non-null   float64\n",
      " 33  tests units                            55445 non-null   object \n",
      " 34  total vaccinations                     18496 non-null   float64\n",
      " 35  people vaccinated                      17653 non-null   float64\n",
      " 36  people fully vaccinated                14776 non-null   float64\n",
      " 37  new vaccinations                       15439 non-null   float64\n",
      " 38  new vaccinations smoothed              32116 non-null   float64\n",
      " 39  total vaccinations per hundred         18496 non-null   float64\n",
      " 40  people vaccinated per hundred          17653 non-null   float64\n",
      " 41  people fully vaccinated per hundred    14776 non-null   float64\n",
      " 42  new vaccinations smoothed per million  32116 non-null   float64\n",
      " 43  stringency index                       86471 non-null   float64\n",
      " 44  population                             102654 non-null  float64\n",
      " 45  population density                     95966 non-null   float64\n",
      " 46  median age                             92200 non-null   float64\n",
      " 47  aged 65 older                          91166 non-null   float64\n",
      " 48  aged 70 older                          91691 non-null   float64\n",
      " 49  gdp per capita                         92583 non-null   float64\n",
      " 50  extreme poverty                        62420 non-null   float64\n",
      " 51  cardiovasc death rate                  92568 non-null   float64\n",
      " 52  diabetes prevalence                    95012 non-null   float64\n",
      " 53  female smokers                         72373 non-null   float64\n",
      " 54  male smokers                           71318 non-null   float64\n",
      " 55  handwashing facilities                 46513 non-null   float64\n",
      " 56  hospital beds per thousand             84289 non-null   float64\n",
      " 57  life expectancy                        98111 non-null   float64\n",
      " 58  human development index                92695 non-null   float64\n",
      " 59  excess mortality                       3624 non-null    float64\n",
      "dtypes: float64(55), object(5)\n",
      "memory usage: 47.3+ MB\n"
     ]
    }
   ],
   "source": [
    "dfcovid.columns = [s.strip().replace('_', ' ') for s in dfcovid.columns] # all columns\n",
    "dfcovid.info()"
   ]
  },
  {
   "cell_type": "markdown",
   "id": "07bd19b9",
   "metadata": {},
   "source": [
    "#### <font color='purple'>1.5.2 Use your column names"
   ]
  },
  {
   "cell_type": "code",
   "execution_count": null,
   "id": "b01551c1",
   "metadata": {},
   "outputs": [],
   "source": [
    "dfcovid = pd.read_csv('https://covid.ourworldindata.org/data/owid-covid-data.csv')\n",
    "dfcovid.drop(['new_cases_smoothed','new_deaths_smoothed','new_cases_smoothed_per_million','new_deaths_smoothed_per_million',\n",
    "             'new_vaccinations_smoothed_per_million','new_vaccinations_smoothed','new_tests_smoothed',\n",
    "              'new_tests_smoothed_per_thousand'],axis=1,inplace=True)"
   ]
  },
  {
   "cell_type": "code",
   "execution_count": null,
   "id": "cfe376b6",
   "metadata": {},
   "outputs": [],
   "source": [
    "dfcovid.columns=['country code','continent','country name','date','total cases','new cases','total deaths','new deaths',\n",
    "        'total cases / 1m','new cases / 1m','total deaths / 1m','new deaths / 1m','reproduction rate','icu patients',\n",
    "        'icu patients / 1m','hospital patients','hospital patients / 1m','weekly icu admissions','weekly_icu_admissions / 1m',\n",
    "        'weekly hospital admissions','weekly hospital admissions / 1m','new tests','total tests','totaltests / 1k',\n",
    "        'new tests /1k','positive rate','tests / case','tests units','total vaccinations','people vaccinated',\n",
    "        'people fully vaccinated','new vaccinations','total vaccinations /100','people vaccinated /100',\n",
    "        'people fully vaccinated /100','stringency index','population','population density','media age','aged 65 or older',\n",
    "        'aged 70 or older','gdp / capita','extreme poverty','cardiovasc death rate','diabetes prevalence','female smokers',\n",
    "        'male smokers','handwashing facilities','hospital beds / 1k','life expectancy','human development index','excess mortality']\n",
    "dfcovid.head()"
   ]
  },
  {
   "cell_type": "code",
   "execution_count": null,
   "id": "0ecffd96",
   "metadata": {},
   "outputs": [],
   "source": []
  },
  {
   "cell_type": "code",
   "execution_count": null,
   "id": "ca8a0eef",
   "metadata": {},
   "outputs": [],
   "source": [
    "dfcovid.info()"
   ]
  },
  {
   "cell_type": "markdown",
   "id": "b4df46ea",
   "metadata": {},
   "source": [
    "### <font color='green'>1.6 Identify the index"
   ]
  },
  {
   "cell_type": "code",
   "execution_count": null,
   "id": "48592261",
   "metadata": {},
   "outputs": [],
   "source": [
    "dfcovid.index"
   ]
  },
  {
   "cell_type": "code",
   "execution_count": null,
   "id": "908000b2",
   "metadata": {},
   "outputs": [],
   "source": [
    "import altair as alt\n",
    "from vega_datasets import data\n",
    "\n",
    "source = dfcovid\n",
    "alt.data_transformers.disable_max_rows()\n",
    "alt.Chart(dfcovid).mark_circle(size=60).encode(\n",
    "    x='continent',\n",
    "    y='total cases',\n",
    "    #color='total death',\n",
    "    tooltip=['date','country code','country name','total deaths','reproduction rate','icu patients','total tests']\n",
    ").interactive()"
   ]
  },
  {
   "cell_type": "code",
   "execution_count": null,
   "id": "aaa16a90",
   "metadata": {},
   "outputs": [],
   "source": [
    "alt.Chart(dfcovid).mark_line().encode(\n",
    "    x='date',\n",
    "    y='total cases'\n",
    ")"
   ]
  },
  {
   "cell_type": "code",
   "execution_count": null,
   "id": "0e1fae88",
   "metadata": {},
   "outputs": [],
   "source": [
    "from lightning import Lightning\n",
    "import pandas as pd"
   ]
  },
  {
   "cell_type": "code",
   "execution_count": null,
   "id": "dfd6d686",
   "metadata": {},
   "outputs": [],
   "source": []
  },
  {
   "cell_type": "code",
   "execution_count": null,
   "id": "a438967e",
   "metadata": {},
   "outputs": [],
   "source": [
    "dfcovid['date']=pd.to_datetime(dfcovid['date'])\n",
    "dfcovid.dtypes"
   ]
  },
  {
   "cell_type": "code",
   "execution_count": null,
   "id": "07b7c6d6",
   "metadata": {},
   "outputs": [],
   "source": [
    "lgn = Lightning(ipython=True, local=True)"
   ]
  },
  {
   "cell_type": "code",
   "execution_count": null,
   "id": "239b1af5",
   "metadata": {},
   "outputs": [],
   "source": [
    "data=pd.read_csv('CFactorMonthlyMarch2021.csv')"
   ]
  },
  {
   "cell_type": "code",
   "execution_count": null,
   "id": "9e339492",
   "metadata": {},
   "outputs": [],
   "source": [
    "x=data['Cfactor']\n",
    "y=data['Month']\n",
    "v=data['Month']\n",
    "series = x,y\n",
    "\n",
    "lgn.line(series)"
   ]
  },
  {
   "cell_type": "code",
   "execution_count": null,
   "id": "1fd3e2d2",
   "metadata": {},
   "outputs": [],
   "source": [
    "lgn.scatter(x, y, alpha=0.5, values=v, colormap='Reds')"
   ]
  },
  {
   "cell_type": "code",
   "execution_count": null,
   "id": "dc4c768a",
   "metadata": {},
   "outputs": [],
   "source": [
    "lgn.force(series)"
   ]
  },
  {
   "cell_type": "code",
   "execution_count": null,
   "id": "c26673fb",
   "metadata": {},
   "outputs": [],
   "source": [
    "from jupyter_dash import JupyterDash\n",
    "\n",
    "import dash\n",
    "import dash_core_components as dcc\n",
    "import dash_html_components as html\n",
    "import pandas as pd"
   ]
  },
  {
   "cell_type": "code",
   "execution_count": null,
   "id": "7c7458a1",
   "metadata": {},
   "outputs": [],
   "source": [
    "df = pd.read_csv('https://plotly.github.io/datasets/country_indicators.csv')\n",
    "available_indicators = df['Indicator Name'].unique()"
   ]
  },
  {
   "cell_type": "code",
   "execution_count": null,
   "id": "ac1a0494",
   "metadata": {},
   "outputs": [],
   "source": [
    "df"
   ]
  },
  {
   "cell_type": "code",
   "execution_count": 3,
   "id": "b6dcbfcf",
   "metadata": {},
   "outputs": [],
   "source": [
    "external_stylesheets = ['https://codepen.io/chriddyp/pen/bWLwgP.css']\n",
    "\n",
    "app = JupyterDash(__name__, external_stylesheets=external_stylesheets)\n",
    "\n",
    "# Create server variable with Flask server object for use with gunicorn\n",
    "server = app.server\n",
    "\n",
    "app.layout = html.Div([\n",
    "    html.Div([\n",
    "\n",
    "        html.Div([\n",
    "            dcc.Dropdown(\n",
    "                id='crossfilter-xaxis-column',\n",
    "                options=[{'label': i, 'value': i} for i in available_indicators],\n",
    "                value='Fertility rate, total (births per woman)'\n",
    "            ),\n",
    "            dcc.RadioItems(\n",
    "                id='crossfilter-xaxis-type',\n",
    "                options=[{'label': i, 'value': i} for i in ['Linear', 'Log']],\n",
    "                value='Linear',\n",
    "                labelStyle={'display': 'inline-block'}\n",
    "            )\n",
    "        ],\n",
    "        style={'width': '49%', 'display': 'inline-block'}),\n",
    "\n",
    "        html.Div([\n",
    "            dcc.Dropdown(\n",
    "                id='crossfilter-yaxis-column',\n",
    "                options=[{'label': i, 'value': i} for i in available_indicators],\n",
    "                value='Life expectancy at birth, total (years)'\n",
    "            ),\n",
    "            dcc.RadioItems(\n",
    "                id='crossfilter-yaxis-type',\n",
    "                options=[{'label': i, 'value': i} for i in ['Linear', 'Log']],\n",
    "                value='Linear',\n",
    "                labelStyle={'display': 'inline-block'}\n",
    "            )\n",
    "        ], style={'width': '49%', 'float': 'right', 'display': 'inline-block'})\n",
    "    ], style={\n",
    "        'borderBottom': 'thin lightgrey solid',\n",
    "        'backgroundColor': 'rgb(250, 250, 250)',\n",
    "        'padding': '10px 5px'\n",
    "    }),\n",
    "\n",
    "    html.Div([\n",
    "        dcc.Graph(\n",
    "            id='crossfilter-indicator-scatter',\n",
    "            hoverData={'points': [{'customdata': 'Japan'}]}\n",
    "        )\n",
    "    ], style={'width': '49%', 'display': 'inline-block', 'padding': '0 20'}),\n",
    "    html.Div([\n",
    "        dcc.Graph(id='x-time-series'),\n",
    "        dcc.Graph(id='y-time-series'),\n",
    "    ], style={'display': 'inline-block', 'width': '49%'}),\n",
    "\n",
    "    html.Div(dcc.Slider(\n",
    "        id='crossfilter-year--slider',\n",
    "        min=df['Year'].min(),\n",
    "        max=df['Year'].max(),\n",
    "        value=df['Year'].max(),\n",
    "        marks={str(year): str(year) for year in df['Year'].unique()},\n",
    "        step=None\n",
    "    ), style={'width': '49%', 'padding': '0px 20px 20px 20px'})\n",
    "])\n",
    "\n",
    "\n",
    "@app.callback(\n",
    "    dash.dependencies.Output('crossfilter-indicator-scatter', 'figure'),\n",
    "    [dash.dependencies.Input('crossfilter-xaxis-column', 'value'),\n",
    "     dash.dependencies.Input('crossfilter-yaxis-column', 'value'),\n",
    "     dash.dependencies.Input('crossfilter-xaxis-type', 'value'),\n",
    "     dash.dependencies.Input('crossfilter-yaxis-type', 'value'),\n",
    "     dash.dependencies.Input('crossfilter-year--slider', 'value')])\n",
    "def update_graph(xaxis_column_name, yaxis_column_name,\n",
    "                 xaxis_type, yaxis_type,\n",
    "                 year_value):\n",
    "    dff = df[df['Year'] == year_value]\n",
    "\n",
    "    return {\n",
    "        'data': [dict(\n",
    "            x=dff[dff['Indicator Name'] == xaxis_column_name]['Value'],\n",
    "            y=dff[dff['Indicator Name'] == yaxis_column_name]['Value'],\n",
    "            text=dff[dff['Indicator Name'] == yaxis_column_name]['Country Name'],\n",
    "            customdata=dff[dff['Indicator Name'] == yaxis_column_name]['Country Name'],\n",
    "            mode='markers',\n",
    "            marker={\n",
    "                'size': 25,\n",
    "                'opacity': 0.7,\n",
    "                'color': 'orange',\n",
    "                'line': {'width': 2, 'color': 'purple'}\n",
    "            }\n",
    "        )],\n",
    "        'layout': dict(\n",
    "            xaxis={\n",
    "                'title': xaxis_column_name,\n",
    "                'type': 'linear' if xaxis_type == 'Linear' else 'log'\n",
    "            },\n",
    "            yaxis={\n",
    "                'title': yaxis_column_name,\n",
    "                'type': 'linear' if yaxis_type == 'Linear' else 'log'\n",
    "            },\n",
    "            margin={'l': 40, 'b': 30, 't': 10, 'r': 0},\n",
    "            height=450,\n",
    "            hovermode='closest'\n",
    "        )\n",
    "    }\n",
    "\n",
    "\n",
    "def create_time_series(dff, axis_type, title):\n",
    "    return {\n",
    "        'data': [dict(\n",
    "            x=dff['Year'],\n",
    "            y=dff['Value'],\n",
    "            mode='lines+markers'\n",
    "        )],\n",
    "        'layout': {\n",
    "            'height': 225,\n",
    "            'margin': {'l': 20, 'b': 30, 'r': 10, 't': 10},\n",
    "            'annotations': [{\n",
    "                'x': 0, 'y': 0.85, 'xanchor': 'left', 'yanchor': 'bottom',\n",
    "                'xref': 'paper', 'yref': 'paper', 'showarrow': False,\n",
    "                'align': 'left', 'bgcolor': 'rgba(255, 255, 255, 0.5)',\n",
    "                'text': title\n",
    "            }],\n",
    "            'yaxis': {'type': 'linear' if axis_type == 'Linear' else 'log'},\n",
    "            'xaxis': {'showgrid': False}\n",
    "        }\n",
    "    }\n",
    "\n",
    "\n",
    "@app.callback(\n",
    "    dash.dependencies.Output('x-time-series', 'figure'),\n",
    "    [dash.dependencies.Input('crossfilter-indicator-scatter', 'hoverData'),\n",
    "     dash.dependencies.Input('crossfilter-xaxis-column', 'value'),\n",
    "     dash.dependencies.Input('crossfilter-xaxis-type', 'value')])\n",
    "def update_y_timeseries(hoverData, xaxis_column_name, axis_type):\n",
    "    country_name = hoverData['points'][0]['customdata']\n",
    "    dff = df[df['Country Name'] == country_name]\n",
    "    dff = dff[dff['Indicator Name'] == xaxis_column_name]\n",
    "    title = '<b>{}</b><br>{}'.format(country_name, xaxis_column_name)\n",
    "    return create_time_series(dff, axis_type, title)\n",
    "\n",
    "\n",
    "@app.callback(\n",
    "    dash.dependencies.Output('y-time-series', 'figure'),\n",
    "    [dash.dependencies.Input('crossfilter-indicator-scatter', 'hoverData'),\n",
    "     dash.dependencies.Input('crossfilter-yaxis-column', 'value'),\n",
    "     dash.dependencies.Input('crossfilter-yaxis-type', 'value')])\n",
    "def update_x_timeseries(hoverData, yaxis_column_name, axis_type):\n",
    "    dff = df[df['Country Name'] == hoverData['points'][0]['customdata']]\n",
    "    dff = dff[dff['Indicator Name'] == yaxis_column_name]\n",
    "    return create_time_series(dff, axis_type, yaxis_column_name)"
   ]
  },
  {
   "cell_type": "code",
   "execution_count": 4,
   "id": "d76d65a8",
   "metadata": {},
   "outputs": [
    {
     "name": "stdout",
     "output_type": "stream",
     "text": [
      "Dash app running on http://127.0.0.1:8050/\n"
     ]
    }
   ],
   "source": [
    "app.run_server()"
   ]
  },
  {
   "cell_type": "code",
   "execution_count": 5,
   "id": "caecf489",
   "metadata": {
    "scrolled": true
   },
   "outputs": [
    {
     "name": "stderr",
     "output_type": "stream",
     "text": [
      "C:\\ProgramData\\Anaconda3\\lib\\site-packages\\jupyter_dash\\jupyter_app.py:139: UserWarning:\n",
      "\n",
      "The 'environ['werkzeug.server.shutdown']' function is deprecated and will be removed in Werkzeug 2.1.\n",
      "\n"
     ]
    },
    {
     "data": {
      "text/html": [
       "\n",
       "        <iframe\n",
       "            width=\"100%\"\n",
       "            height=\"650\"\n",
       "            src=\"http://127.0.0.1:8050/\"\n",
       "            frameborder=\"0\"\n",
       "            allowfullscreen\n",
       "        ></iframe>\n",
       "        "
      ],
      "text/plain": [
       "<IPython.lib.display.IFrame at 0x22cd4ff59b0>"
      ]
     },
     "metadata": {},
     "output_type": "display_data"
    }
   ],
   "source": [
    "app.run_server(mode=\"inline\")"
   ]
  },
  {
   "cell_type": "code",
   "execution_count": 1,
   "id": "406a5a0e",
   "metadata": {},
   "outputs": [],
   "source": [
    "import numpy as np\n",
    "import pandas as pd\n",
    "import textwrap\n",
    "\n",
    "import ipywidgets as widgets\n",
    "from ipywidgets import interact, interact_manual\n",
    "import IPython.display\n",
    "from IPython.display import display, clear_output\n",
    "\n",
    "import plotly.graph_objects as go"
   ]
  },
  {
   "cell_type": "code",
   "execution_count": 3,
   "id": "af08770b",
   "metadata": {},
   "outputs": [
    {
     "data": {
      "text/html": [
       "<div>\n",
       "<style scoped>\n",
       "    .dataframe tbody tr th:only-of-type {\n",
       "        vertical-align: middle;\n",
       "    }\n",
       "\n",
       "    .dataframe tbody tr th {\n",
       "        vertical-align: top;\n",
       "    }\n",
       "\n",
       "    .dataframe thead th {\n",
       "        text-align: right;\n",
       "    }\n",
       "</style>\n",
       "<table border=\"1\" class=\"dataframe\">\n",
       "  <thead>\n",
       "    <tr style=\"text-align: right;\">\n",
       "      <th></th>\n",
       "      <th>YearEnd</th>\n",
       "      <th>LocationAbbr</th>\n",
       "      <th>Question</th>\n",
       "      <th>Data_Value_Unit</th>\n",
       "      <th>Data_Value</th>\n",
       "      <th>StratificationCategory1</th>\n",
       "      <th>Stratification1</th>\n",
       "      <th>StratificationCategoryID2</th>\n",
       "      <th>StratificationID2</th>\n",
       "    </tr>\n",
       "  </thead>\n",
       "  <tbody>\n",
       "    <tr>\n",
       "      <th>0</th>\n",
       "      <td>2016</td>\n",
       "      <td>FL</td>\n",
       "      <td>Percentage of older adults with a lifetime dia...</td>\n",
       "      <td>%</td>\n",
       "      <td>10.7</td>\n",
       "      <td>Age Group</td>\n",
       "      <td>Overall</td>\n",
       "      <td>GENDER</td>\n",
       "      <td>MALE</td>\n",
       "    </tr>\n",
       "    <tr>\n",
       "      <th>1</th>\n",
       "      <td>2015</td>\n",
       "      <td>GU</td>\n",
       "      <td>Percentage of older adults ever told they have...</td>\n",
       "      <td>%</td>\n",
       "      <td>31.5</td>\n",
       "      <td>Age Group</td>\n",
       "      <td>50-64 years</td>\n",
       "      <td>GENDER</td>\n",
       "      <td>MALE</td>\n",
       "    </tr>\n",
       "    <tr>\n",
       "      <th>2</th>\n",
       "      <td>2018</td>\n",
       "      <td>GU</td>\n",
       "      <td>Percentage of older adults who reported influe...</td>\n",
       "      <td>%</td>\n",
       "      <td>25.2</td>\n",
       "      <td>Age Group</td>\n",
       "      <td>50-64 years</td>\n",
       "      <td>GENDER</td>\n",
       "      <td>MALE</td>\n",
       "    </tr>\n",
       "    <tr>\n",
       "      <th>3</th>\n",
       "      <td>2018</td>\n",
       "      <td>GU</td>\n",
       "      <td>Percentage of older adults getting sufficient ...</td>\n",
       "      <td>%</td>\n",
       "      <td>53.4</td>\n",
       "      <td>Age Group</td>\n",
       "      <td>50-64 years</td>\n",
       "      <td>GENDER</td>\n",
       "      <td>FEMALE</td>\n",
       "    </tr>\n",
       "    <tr>\n",
       "      <th>4</th>\n",
       "      <td>2015</td>\n",
       "      <td>ID</td>\n",
       "      <td>Percentage of older adults ever told they have...</td>\n",
       "      <td>%</td>\n",
       "      <td>56.7</td>\n",
       "      <td>Age Group</td>\n",
       "      <td>65 years or older</td>\n",
       "      <td>GENDER</td>\n",
       "      <td>FEMALE</td>\n",
       "    </tr>\n",
       "    <tr>\n",
       "      <th>...</th>\n",
       "      <td>...</td>\n",
       "      <td>...</td>\n",
       "      <td>...</td>\n",
       "      <td>...</td>\n",
       "      <td>...</td>\n",
       "      <td>...</td>\n",
       "      <td>...</td>\n",
       "      <td>...</td>\n",
       "      <td>...</td>\n",
       "    </tr>\n",
       "    <tr>\n",
       "      <th>178534</th>\n",
       "      <td>2019</td>\n",
       "      <td>MDW</td>\n",
       "      <td>Percentage of older adults with subjective cog...</td>\n",
       "      <td>%</td>\n",
       "      <td>31.8</td>\n",
       "      <td>Age Group</td>\n",
       "      <td>50-64 years</td>\n",
       "      <td>RACE</td>\n",
       "      <td>HIS</td>\n",
       "    </tr>\n",
       "    <tr>\n",
       "      <th>178535</th>\n",
       "      <td>2019</td>\n",
       "      <td>SOU</td>\n",
       "      <td>Percentage of older adults with subjective cog...</td>\n",
       "      <td>%</td>\n",
       "      <td>34.9</td>\n",
       "      <td>Age Group</td>\n",
       "      <td>65 years or older</td>\n",
       "      <td>RACE</td>\n",
       "      <td>ASN</td>\n",
       "    </tr>\n",
       "    <tr>\n",
       "      <th>178536</th>\n",
       "      <td>2019</td>\n",
       "      <td>MDW</td>\n",
       "      <td>Percentage of older adults with subjective cog...</td>\n",
       "      <td>%</td>\n",
       "      <td>41.8</td>\n",
       "      <td>Age Group</td>\n",
       "      <td>65 years or older</td>\n",
       "      <td>RACE</td>\n",
       "      <td>HIS</td>\n",
       "    </tr>\n",
       "    <tr>\n",
       "      <th>178537</th>\n",
       "      <td>2019</td>\n",
       "      <td>SOU</td>\n",
       "      <td>Percentage of older adults with subjective cog...</td>\n",
       "      <td>%</td>\n",
       "      <td>55.1</td>\n",
       "      <td>Age Group</td>\n",
       "      <td>50-64 years</td>\n",
       "      <td>RACE</td>\n",
       "      <td>BLK</td>\n",
       "    </tr>\n",
       "    <tr>\n",
       "      <th>178538</th>\n",
       "      <td>2019</td>\n",
       "      <td>WEST</td>\n",
       "      <td>Percentage of older adults with subjective cog...</td>\n",
       "      <td>%</td>\n",
       "      <td>50.3</td>\n",
       "      <td>Age Group</td>\n",
       "      <td>50-64 years</td>\n",
       "      <td>RACE</td>\n",
       "      <td>NAA</td>\n",
       "    </tr>\n",
       "  </tbody>\n",
       "</table>\n",
       "<p>178539 rows × 9 columns</p>\n",
       "</div>"
      ],
      "text/plain": [
       "        YearEnd LocationAbbr  \\\n",
       "0          2016           FL   \n",
       "1          2015           GU   \n",
       "2          2018           GU   \n",
       "3          2018           GU   \n",
       "4          2015           ID   \n",
       "...         ...          ...   \n",
       "178534     2019          MDW   \n",
       "178535     2019          SOU   \n",
       "178536     2019          MDW   \n",
       "178537     2019          SOU   \n",
       "178538     2019         WEST   \n",
       "\n",
       "                                                 Question Data_Value_Unit  \\\n",
       "0       Percentage of older adults with a lifetime dia...               %   \n",
       "1       Percentage of older adults ever told they have...               %   \n",
       "2       Percentage of older adults who reported influe...               %   \n",
       "3       Percentage of older adults getting sufficient ...               %   \n",
       "4       Percentage of older adults ever told they have...               %   \n",
       "...                                                   ...             ...   \n",
       "178534  Percentage of older adults with subjective cog...               %   \n",
       "178535  Percentage of older adults with subjective cog...               %   \n",
       "178536  Percentage of older adults with subjective cog...               %   \n",
       "178537  Percentage of older adults with subjective cog...               %   \n",
       "178538  Percentage of older adults with subjective cog...               %   \n",
       "\n",
       "        Data_Value StratificationCategory1    Stratification1  \\\n",
       "0             10.7               Age Group            Overall   \n",
       "1             31.5               Age Group        50-64 years   \n",
       "2             25.2               Age Group        50-64 years   \n",
       "3             53.4               Age Group        50-64 years   \n",
       "4             56.7               Age Group  65 years or older   \n",
       "...            ...                     ...                ...   \n",
       "178534        31.8               Age Group        50-64 years   \n",
       "178535        34.9               Age Group  65 years or older   \n",
       "178536        41.8               Age Group  65 years or older   \n",
       "178537        55.1               Age Group        50-64 years   \n",
       "178538        50.3               Age Group        50-64 years   \n",
       "\n",
       "       StratificationCategoryID2 StratificationID2  \n",
       "0                         GENDER              MALE  \n",
       "1                         GENDER              MALE  \n",
       "2                         GENDER              MALE  \n",
       "3                         GENDER            FEMALE  \n",
       "4                         GENDER            FEMALE  \n",
       "...                          ...               ...  \n",
       "178534                      RACE               HIS  \n",
       "178535                      RACE               ASN  \n",
       "178536                      RACE               HIS  \n",
       "178537                      RACE               BLK  \n",
       "178538                      RACE               NAA  \n",
       "\n",
       "[178539 rows x 9 columns]"
      ]
     },
     "metadata": {},
     "output_type": "display_data"
    }
   ],
   "source": [
    "# path = 'C:/Users/Diana Rozenshteyn/Documents/Medium/Jupyter_widgets_dropdown/'\n",
    "\n",
    "healthy_aging_data = pd.read_csv('Alzheimer_s_Disease_and_Healthy_Aging_Data.csv')\n",
    "\n",
    "healthy_aging_data = healthy_aging_data.drop(columns = \\\n",
    "            {'Datasource', 'Class', 'DataValueTypeID', 'Response', 'Data_Value_Alt', 'Data_Value_Footnote_Symbol', \\\n",
    "             'Data_Value_Footnote', 'Low_Confidence_Limit', 'High_Confidence_Limit', 'Sample_Size', \\\n",
    "             'StratificationCategory3', 'Stratification3', 'ClassID', 'TopicID', 'QuestionID', 'ResponseID', \\\n",
    "             'LocationID' , 'Geolocation', 'StratificationCategoryID3', 'StratificationID3', 'Report', \\\n",
    "            'YearStart', 'LocationDesc', 'Topic', 'Data_Value_Type', 'StratificationID1', 'RowId', \\\n",
    "            'StratificationCategory2', 'Stratification2', 'StratificationID1', 'StratificationCategoryID1'})\n",
    "\n",
    "questions_list = ['Percentage of older adults who are currently obese, with a body mass index (BMI) of 30 or more', \\\n",
    "                 'Percentage of older adults who have not had any leisure time physical activity in the past month', \\\n",
    "                 'Percentage of older adults who have been told they have high blood pressure who ' \\\n",
    "                 'report currently taking medication for their high blood pressure', \\\n",
    "                 'Percentage of older adults who are eating 3 or more vegetables daily', \\\n",
    "                 'Percentage of older adults with a lifetime diagnosis of depression']\n",
    "\n",
    "display(healthy_aging_data)"
   ]
  },
  {
   "cell_type": "code",
   "execution_count": 4,
   "id": "0d05433e",
   "metadata": {},
   "outputs": [],
   "source": [
    "def plot_healthy_aging_data_gender(state_to_plot_gender, state_to_plot_race, state_to_plot_overall, state_name, question):\n",
    "   \n",
    "    state_to_plot = state_to_plot_gender.sort_values('YearEnd').groupby('StratificationID2')\n",
    "    \n",
    "    state_to_plot_male = state_to_plot.get_group('MALE')\n",
    "    state_to_plot_female = state_to_plot.get_group('FEMALE')\n",
    "        \n",
    "    fig = go.Figure()\n",
    "     \n",
    "    fig.add_trace(go.Scatter(x=state_to_plot_male.YearEnd,\n",
    "            y=state_to_plot_male.Data_Value,\n",
    "                    mode='lines+markers',\n",
    "                    name='Male'))\n",
    "    \n",
    "    fig.add_trace(go.Scatter(x=state_to_plot_female.YearEnd,\n",
    "            y=state_to_plot_female.Data_Value,\n",
    "                    mode='lines+markers',\n",
    "                    name='Female'))\n",
    "    \n",
    "    question = textwrap.fill(question, width=50)   \n",
    "    title = ' '.join(question) + '  in  ' + state_name\n",
    "    print('\\n')\n",
    "    print(title)\n",
    "    \n",
    "    fig.update_layout(\n",
    "        xaxis_title=\"Year\",\n",
    "        yaxis_title=\"%\",\n",
    "        font=dict(\n",
    "            family=\"Courier New, monospace\",\n",
    "            size=18,\n",
    "            color=\"RebeccaPurple\"))\n",
    "    \n",
    "    layout = dict(\n",
    "        xaxis=dict(\n",
    "        tickmode=\"array\",\n",
    "        tickvals=state_to_plot_male['YearEnd'].astype(int),\n",
    "        ticktext=state_to_plot_male['YearEnd'],\n",
    "        tickformat='%Y',\n",
    "        tickangle=45))\n",
    "\n",
    "    fig.update_layout(layout)\n",
    "    fig.update_yaxes(rangemode=\"tozero\")\n",
    "    \n",
    "    fig.show()"
   ]
  },
  {
   "cell_type": "code",
   "execution_count": 5,
   "id": "35df019a",
   "metadata": {},
   "outputs": [],
   "source": [
    "def plot_healthy_aging_data_race(state_to_plot_gender, state_to_plot_race, state_to_plot_overall, state_name, question):\n",
    "\n",
    "    state_to_plot_race = state_to_plot_race.loc[state_to_plot_race[\"Data_Value\"] != 'NaN']\n",
    "    \n",
    "    fig = go.Figure()\n",
    "    \n",
    "    if state_to_plot_race.isin(['NAA']).any().any() & state_to_plot_race.isin(['ASN']).any().any():\n",
    "        \n",
    "        state_to_plot_race = state_to_plot_race.sort_values('YearEnd').groupby('StratificationID2')\n",
    "        \n",
    "        state_to_plot_white = state_to_plot_race.get_group('WHT')\n",
    "        state_to_plot_hispanic = state_to_plot_race.get_group('HIS')\n",
    "        state_to_plot_black = state_to_plot_race.get_group('BLK')\n",
    "        state_to_plot_asian = state_to_plot_race.get_group('ASN')\n",
    "        state_to_plot_native = state_to_plot_race.get_group('NAA')\n",
    "        \n",
    "        fig.add_trace(go.Scatter(x=state_to_plot_white.YearEnd,\n",
    "                y=state_to_plot_white.Data_Value,\n",
    "                        mode='lines+markers',\n",
    "                        name='White'))\n",
    "\n",
    "        fig.add_trace(go.Scatter(x=state_to_plot_hispanic.YearEnd,\n",
    "                y=state_to_plot_hispanic.Data_Value,\n",
    "                        mode='lines+markers',\n",
    "                        name='Hispanic'))\n",
    "\n",
    "        fig.add_trace(go.Scatter(x=state_to_plot_black.YearEnd,\n",
    "                y=state_to_plot_black.Data_Value,\n",
    "                        mode='lines+markers',\n",
    "                        name='African-American'))\n",
    "\n",
    "        fig.add_trace(go.Scatter(x=state_to_plot_asian.YearEnd,\n",
    "                y=state_to_plot_asian.Data_Value,\n",
    "                        mode='lines+markers',\n",
    "                        name='Asian'))\n",
    "\n",
    "        fig.add_trace(go.Scatter(x=state_to_plot_native.YearEnd,\n",
    "                y=state_to_plot_native.Data_Value,\n",
    "                        mode='lines+markers',\n",
    "                        name='Native American'))\n",
    "        \n",
    "    elif state_to_plot_race.isin(['ASN']).any().any():\n",
    "        \n",
    "        state_to_plot_race = state_to_plot_race.sort_values('YearEnd').groupby('StratificationID2')\n",
    "    \n",
    "        state_to_plot_white = state_to_plot_race.get_group('WHT')\n",
    "        state_to_plot_hispanic = state_to_plot_race.get_group('HIS')\n",
    "        state_to_plot_black = state_to_plot_race.get_group('BLK')\n",
    "        state_to_plot_asian = state_to_plot_race.get_group('ASN')\n",
    "        \n",
    "        fig.add_trace(go.Scatter(x=state_to_plot_white.YearEnd,\n",
    "                y=state_to_plot_white.Data_Value,\n",
    "                        mode='lines+markers',\n",
    "                        name='White'))\n",
    "\n",
    "        fig.add_trace(go.Scatter(x=state_to_plot_hispanic.YearEnd,\n",
    "                y=state_to_plot_hispanic.Data_Value,\n",
    "                        mode='lines+markers',\n",
    "                        name='Hispanic'))\n",
    "\n",
    "        fig.add_trace(go.Scatter(x=state_to_plot_black.YearEnd,\n",
    "                y=state_to_plot_black.Data_Value,\n",
    "                        mode='lines+markers',\n",
    "                        name='African-American'))\n",
    "\n",
    "        fig.add_trace(go.Scatter(x=state_to_plot_asian.YearEnd,\n",
    "                y=state_to_plot_asian.Data_Value,\n",
    "                        mode='lines+markers',\n",
    "                        name='Asian'))\n",
    "        \n",
    "    else:\n",
    "        \n",
    "        state_to_plot_race = state_to_plot_race.sort_values('YearEnd').groupby('StratificationID2')\n",
    "        \n",
    "        state_to_plot_white = state_to_plot_race.get_group('WHT')\n",
    "        state_to_plot_hispanic = state_to_plot_race.get_group('HIS')\n",
    "        state_to_plot_black = state_to_plot_race.get_group('BLK')\n",
    "        \n",
    "        fig.add_trace(go.Scatter(x=state_to_plot_white.YearEnd,\n",
    "            y=state_to_plot_white.Data_Value,\n",
    "                    mode='lines+markers',\n",
    "                    name='White'))\n",
    "    \n",
    "        fig.add_trace(go.Scatter(x=state_to_plot_hispanic.YearEnd,\n",
    "                y=state_to_plot_hispanic.Data_Value,\n",
    "                        mode='lines+markers',\n",
    "                        name='Hispanic'))\n",
    "\n",
    "        fig.add_trace(go.Scatter(x=state_to_plot_black.YearEnd,\n",
    "                y=state_to_plot_black.Data_Value,\n",
    "                        mode='lines+markers',\n",
    "                        name='African-American'))        \n",
    "    \n",
    "    question = textwrap.fill(question, width=50)   \n",
    "    title = ' '.join(question) + '  in  ' + state_name\n",
    "    print('\\n')\n",
    "    print(title)\n",
    "    \n",
    "    fig.update_layout(\n",
    "        xaxis_title=\"Year\",\n",
    "        yaxis_title=\"%\",\n",
    "        font=dict(\n",
    "            family=\"Courier New, monospace\",\n",
    "            size=18,\n",
    "            color=\"RebeccaPurple\"))\n",
    "    \n",
    "    layout = dict(\n",
    "        xaxis=dict(\n",
    "        tickmode=\"array\",\n",
    "        tickvals=state_to_plot_white['YearEnd'].astype(int),\n",
    "        ticktext=state_to_plot_white['YearEnd'],\n",
    "        tickformat='%Y',\n",
    "        tickangle=45))\n",
    "\n",
    "    fig.update_layout(layout)\n",
    "    fig.update_yaxes(rangemode=\"tozero\")\n",
    "    \n",
    "    fig.show()"
   ]
  },
  {
   "cell_type": "code",
   "execution_count": 6,
   "id": "d9b18385",
   "metadata": {},
   "outputs": [],
   "source": [
    "def plot_healthy_aging_data_overall(state_to_plot_gender, state_to_plot_race, state_to_plot_overall, state_name, question):\n",
    "        \n",
    "    state_to_plot_overall = state_to_plot_overall.sort_values('YearEnd') \\\n",
    "        .groupby('StratificationID2').get_group('OVERALL')\n",
    "    \n",
    "    fig = go.Figure()\n",
    "        \n",
    "    fig.add_trace(go.Scatter(x=state_to_plot_overall.YearEnd,\n",
    "            y=state_to_plot_overall.Data_Value,\n",
    "                    mode='lines+markers',\n",
    "                    name='Overall'))\n",
    "  \n",
    "    question = textwrap.fill(question, width=50)   \n",
    "    title = ' '.join(question) + '  in  ' + state_name\n",
    "    print('\\n')\n",
    "    print(title)\n",
    "    \n",
    "    fig.update_layout(\n",
    "        xaxis_title=\"Year\",\n",
    "        yaxis_title=\"%\",\n",
    "        font=dict(\n",
    "            family=\"Courier New, monospace\",\n",
    "            size=18,\n",
    "            color=\"RebeccaPurple\"))\n",
    "    \n",
    "    layout = dict(\n",
    "        xaxis=dict(\n",
    "        tickmode=\"array\",\n",
    "        tickvals=state_to_plot_overall['YearEnd'].astype(int),\n",
    "        ticktext=state_to_plot_overall['YearEnd'],\n",
    "        tickformat='%Y',\n",
    "        tickangle=45))\n",
    "\n",
    "    fig.update_layout(layout)\n",
    "    fig.update_yaxes(rangemode=\"tozero\")\n",
    "    \n",
    "    fig.show()"
   ]
  },
  {
   "cell_type": "code",
   "execution_count": 7,
   "id": "d923f465",
   "metadata": {},
   "outputs": [],
   "source": [
    "def dataset_analysis_aging(dataset, state_name, question):\n",
    "           \n",
    "    data_by_question = dataset.query('Question == @question')\n",
    "\n",
    "    data_by_question_by_state = data_by_question.groupby('LocationAbbr').get_group(state_name) \\\n",
    "            .query(\"YearEnd == 2019 | YearEnd == 2018 | YearEnd == 2017 | YearEnd == 2016 | YearEnd == 2015\")\n",
    "\n",
    "    data_by_state_age = data_by_question_by_state.groupby('Stratification1').get_group('Overall')\n",
    "\n",
    "    data_by_state_age_gender_race = data_by_state_age \\\n",
    "            .query(\"StratificationCategoryID2 == 'RACE' | StratificationCategoryID2 == 'GENDER' |  \\\n",
    "                   StratificationCategoryID2 == 'OVERALL'\")\n",
    "\n",
    "    data_by_state_age_gender = data_by_state_age_gender_race \\\n",
    "            .groupby('StratificationCategoryID2').get_group('GENDER')\n",
    "\n",
    "    data_by_state_age_race = data_by_state_age_gender_race \\\n",
    "            .groupby('StratificationCategoryID2').get_group('RACE')\n",
    "    \n",
    "    data_by_state_age_overall = data_by_state_age_gender_race \\\n",
    "            .groupby('StratificationCategoryID2').get_group('OVERALL')\n",
    "\n",
    "    data_by_state_age_gender_output_table = pd.DataFrame(data_by_state_age_gender,\n",
    "            columns = ['YearEnd', 'Data_Value', 'StratificationID2'])\n",
    "\n",
    "    data_by_state_age_race_output_table = pd.DataFrame(data_by_state_age_race,\n",
    "            columns = ['YearEnd', 'Data_Value', 'StratificationID2'])\n",
    "    \n",
    "    data_by_state_age_overall_output_table = pd.DataFrame(data_by_state_age_overall,\n",
    "            columns = ['YearEnd', 'Data_Value', 'StratificationID2'])\n",
    "   \n",
    "    return data_by_state_age_gender_output_table, data_by_state_age_race_output_table, \\\n",
    "            data_by_state_age_overall_output_table, state_name, question"
   ]
  },
  {
   "cell_type": "code",
   "execution_count": 8,
   "id": "1f170371",
   "metadata": {},
   "outputs": [],
   "source": [
    "def dataset_analysis_aging_gender(dataset, state_name, question):\n",
    "\n",
    "    output_table = dataset_analysis_aging(dataset, state_name, question)\n",
    "    \n",
    "    plot_healthy_aging_data_gender(output_table[0], output_table[1], output_table[2], state_name, question)\n",
    "              \n",
    "def dataset_analysis_aging_race(dataset, state_name, question):\n",
    "    \n",
    "    output_table = dataset_analysis_aging(dataset, state_name, question)\n",
    "    \n",
    "    plot_healthy_aging_data_race(output_table[0], output_table[1], output_table[2], state_name, question)\n",
    "        \n",
    "def dataset_analysis_aging_overall(dataset, state_name, question):\n",
    "    \n",
    "    output_table = dataset_analysis_aging(dataset, state_name, question)\n",
    "    \n",
    "    plot_healthy_aging_data_overall(output_table[0], output_table[1], output_table[2], state_name, question) \n"
   ]
  },
  {
   "cell_type": "code",
   "execution_count": 9,
   "id": "af346175",
   "metadata": {},
   "outputs": [],
   "source": [
    "def dropdown_menu_widget_healthy_aging(dataset, dataset_analysis_function_gender, dataset_analysis_function_race, \n",
    "                                       dataset_analysis_function_overall, questions):\n",
    "    \n",
    "    output = widgets.Output()\n",
    "\n",
    "    dropdown_state = widgets.Dropdown(options = sorted(dataset.LocationAbbr.unique()), value=None, description='State:')\n",
    "    dropdown_question = widgets.Dropdown(options = questions, value=None, description='Question:')\n",
    "    dropdown_stratification = widgets.Dropdown(options = dataset.StratificationCategoryID2.unique(), \n",
    "                                               value=None, description='Stratification:')\n",
    "    \n",
    "    for question in questions:\n",
    "        \n",
    "        def output_by_state(state, question, stratification):\n",
    "            \"\"\"\n",
    "            Takes in a state value, the specific question from the for loop and the specified stratification category.\n",
    "            This function is called by the dropdown handlers below to pull the data based on user-input.\n",
    "            \"\"\"\n",
    "            try:\n",
    "                if stratification == 'GENDER':                \n",
    "                    output_data = dataset_analysis_function_gender(dataset, state, question)\n",
    "                \n",
    "                elif stratification == 'RACE':\n",
    "                    output_data = dataset_analysis_function_race(dataset, state, question)\n",
    "                \n",
    "                elif stratification == 'OVERALL':\n",
    "                    output_data = dataset_analysis_function_overall(dataset, state, question)\n",
    "\n",
    "                with output:\n",
    "                    display(output_data)\n",
    "            except KeyError:\n",
    "                if dropdown_question.value != True:\n",
    "                    if dropdown_state.value != True:\n",
    "                        IPython.display.clear_output(wait=True)\n",
    "                        display(input_widgets)\n",
    "        \n",
    "    def dropdown_state_eventhandler(change):\n",
    "        \"\"\"\n",
    "        Eventhandler for the state dropdown widget\n",
    "        \"\"\"\n",
    "        display(input_widgets)\n",
    "        state_choice = change.new\n",
    "        output_by_state(state_choice, dropdown_question.value, dropdown_stratification.value)\n",
    "        IPython.display.clear_output(wait=True)            \n",
    "\n",
    "    def dropdown_question_eventhandler(change):\n",
    "        \"\"\"\n",
    "        Eventhandler for the question dropdown widget\n",
    "        \"\"\"\n",
    "        display(input_widgets)\n",
    "        question_choice = change.new\n",
    "        output_by_state(dropdown_state.value, question_choice, dropdown_stratification.value)\n",
    "        IPython.display.clear_output(wait=True)\n",
    "\n",
    "    def dropdown_stratification_eventhandler(change):     \n",
    "        \"\"\"\n",
    "        Event handler for the stratification dropdown widget\n",
    "        \"\"\"\n",
    "        display(input_widgets)\n",
    "        stratification_choice = change.new\n",
    "        output_by_state(dropdown_state.value, dropdown_question.value, stratification_choice)\n",
    "        IPython.display.clear_output(wait=True)\n",
    "            \n",
    "    dropdown_state.observe(dropdown_state_eventhandler, names='value')\n",
    "    dropdown_question.observe(dropdown_question_eventhandler, names='value')\n",
    "    dropdown_stratification.observe(dropdown_stratification_eventhandler, names='value')\n",
    "\n",
    "    input_widgets = widgets.HBox([dropdown_state, dropdown_question, dropdown_stratification])\n",
    "    \n",
    "    display(input_widgets)\n",
    "    IPython.display.clear_output(wait=True)    "
   ]
  },
  {
   "cell_type": "code",
   "execution_count": 10,
   "id": "ffef076a",
   "metadata": {},
   "outputs": [
    {
     "data": {
      "application/vnd.jupyter.widget-view+json": {
       "model_id": "2ef8a3bea01e490cb19adc119399b6b6",
       "version_major": 2,
       "version_minor": 0
      },
      "text/plain": [
       "HBox(children=(Dropdown(description='State:', index=1, options=('AK', 'AL', 'AR', 'AZ', 'CA', 'CO', 'CT', 'DC'…"
      ]
     },
     "metadata": {},
     "output_type": "display_data"
    },
    {
     "name": "stdout",
     "output_type": "stream",
     "text": [
      "\n",
      "\n",
      "P e r c e n t a g e   o f   o l d e r   a d u l t s   w h o   h a v e   b e e n   t o l d   t h e y \n",
      " h a v e   h i g h   b l o o d   p r e s s u r e   w h o   r e p o r t   c u r r e n t l y \n",
      " t a k i n g   m e d i c a t i o n   f o r   t h e i r   h i g h   b l o o d   p r e s s u r e  in  AL\n"
     ]
    },
    {
     "data": {
      "application/vnd.plotly.v1+json": {
       "config": {
        "plotlyServerURL": "https://plot.ly"
       },
       "data": [
        {
         "mode": "lines+markers",
         "name": "Male",
         "type": "scatter",
         "x": [
          2015,
          2017,
          2019
         ],
         "y": [
          88.7,
          90.1,
          89.6
         ]
        },
        {
         "mode": "lines+markers",
         "name": "Female",
         "type": "scatter",
         "x": [
          2015,
          2017,
          2019
         ],
         "y": [
          92.4,
          91.1,
          91.5
         ]
        }
       ],
       "layout": {
        "font": {
         "color": "RebeccaPurple",
         "family": "Courier New, monospace",
         "size": 18
        },
        "template": {
         "data": {
          "bar": [
           {
            "error_x": {
             "color": "#2a3f5f"
            },
            "error_y": {
             "color": "#2a3f5f"
            },
            "marker": {
             "line": {
              "color": "#E5ECF6",
              "width": 0.5
             }
            },
            "type": "bar"
           }
          ],
          "barpolar": [
           {
            "marker": {
             "line": {
              "color": "#E5ECF6",
              "width": 0.5
             }
            },
            "type": "barpolar"
           }
          ],
          "carpet": [
           {
            "aaxis": {
             "endlinecolor": "#2a3f5f",
             "gridcolor": "white",
             "linecolor": "white",
             "minorgridcolor": "white",
             "startlinecolor": "#2a3f5f"
            },
            "baxis": {
             "endlinecolor": "#2a3f5f",
             "gridcolor": "white",
             "linecolor": "white",
             "minorgridcolor": "white",
             "startlinecolor": "#2a3f5f"
            },
            "type": "carpet"
           }
          ],
          "choropleth": [
           {
            "colorbar": {
             "outlinewidth": 0,
             "ticks": ""
            },
            "type": "choropleth"
           }
          ],
          "contour": [
           {
            "colorbar": {
             "outlinewidth": 0,
             "ticks": ""
            },
            "colorscale": [
             [
              0,
              "#0d0887"
             ],
             [
              0.1111111111111111,
              "#46039f"
             ],
             [
              0.2222222222222222,
              "#7201a8"
             ],
             [
              0.3333333333333333,
              "#9c179e"
             ],
             [
              0.4444444444444444,
              "#bd3786"
             ],
             [
              0.5555555555555556,
              "#d8576b"
             ],
             [
              0.6666666666666666,
              "#ed7953"
             ],
             [
              0.7777777777777778,
              "#fb9f3a"
             ],
             [
              0.8888888888888888,
              "#fdca26"
             ],
             [
              1,
              "#f0f921"
             ]
            ],
            "type": "contour"
           }
          ],
          "contourcarpet": [
           {
            "colorbar": {
             "outlinewidth": 0,
             "ticks": ""
            },
            "type": "contourcarpet"
           }
          ],
          "heatmap": [
           {
            "colorbar": {
             "outlinewidth": 0,
             "ticks": ""
            },
            "colorscale": [
             [
              0,
              "#0d0887"
             ],
             [
              0.1111111111111111,
              "#46039f"
             ],
             [
              0.2222222222222222,
              "#7201a8"
             ],
             [
              0.3333333333333333,
              "#9c179e"
             ],
             [
              0.4444444444444444,
              "#bd3786"
             ],
             [
              0.5555555555555556,
              "#d8576b"
             ],
             [
              0.6666666666666666,
              "#ed7953"
             ],
             [
              0.7777777777777778,
              "#fb9f3a"
             ],
             [
              0.8888888888888888,
              "#fdca26"
             ],
             [
              1,
              "#f0f921"
             ]
            ],
            "type": "heatmap"
           }
          ],
          "heatmapgl": [
           {
            "colorbar": {
             "outlinewidth": 0,
             "ticks": ""
            },
            "colorscale": [
             [
              0,
              "#0d0887"
             ],
             [
              0.1111111111111111,
              "#46039f"
             ],
             [
              0.2222222222222222,
              "#7201a8"
             ],
             [
              0.3333333333333333,
              "#9c179e"
             ],
             [
              0.4444444444444444,
              "#bd3786"
             ],
             [
              0.5555555555555556,
              "#d8576b"
             ],
             [
              0.6666666666666666,
              "#ed7953"
             ],
             [
              0.7777777777777778,
              "#fb9f3a"
             ],
             [
              0.8888888888888888,
              "#fdca26"
             ],
             [
              1,
              "#f0f921"
             ]
            ],
            "type": "heatmapgl"
           }
          ],
          "histogram": [
           {
            "marker": {
             "colorbar": {
              "outlinewidth": 0,
              "ticks": ""
             }
            },
            "type": "histogram"
           }
          ],
          "histogram2d": [
           {
            "colorbar": {
             "outlinewidth": 0,
             "ticks": ""
            },
            "colorscale": [
             [
              0,
              "#0d0887"
             ],
             [
              0.1111111111111111,
              "#46039f"
             ],
             [
              0.2222222222222222,
              "#7201a8"
             ],
             [
              0.3333333333333333,
              "#9c179e"
             ],
             [
              0.4444444444444444,
              "#bd3786"
             ],
             [
              0.5555555555555556,
              "#d8576b"
             ],
             [
              0.6666666666666666,
              "#ed7953"
             ],
             [
              0.7777777777777778,
              "#fb9f3a"
             ],
             [
              0.8888888888888888,
              "#fdca26"
             ],
             [
              1,
              "#f0f921"
             ]
            ],
            "type": "histogram2d"
           }
          ],
          "histogram2dcontour": [
           {
            "colorbar": {
             "outlinewidth": 0,
             "ticks": ""
            },
            "colorscale": [
             [
              0,
              "#0d0887"
             ],
             [
              0.1111111111111111,
              "#46039f"
             ],
             [
              0.2222222222222222,
              "#7201a8"
             ],
             [
              0.3333333333333333,
              "#9c179e"
             ],
             [
              0.4444444444444444,
              "#bd3786"
             ],
             [
              0.5555555555555556,
              "#d8576b"
             ],
             [
              0.6666666666666666,
              "#ed7953"
             ],
             [
              0.7777777777777778,
              "#fb9f3a"
             ],
             [
              0.8888888888888888,
              "#fdca26"
             ],
             [
              1,
              "#f0f921"
             ]
            ],
            "type": "histogram2dcontour"
           }
          ],
          "mesh3d": [
           {
            "colorbar": {
             "outlinewidth": 0,
             "ticks": ""
            },
            "type": "mesh3d"
           }
          ],
          "parcoords": [
           {
            "line": {
             "colorbar": {
              "outlinewidth": 0,
              "ticks": ""
             }
            },
            "type": "parcoords"
           }
          ],
          "pie": [
           {
            "automargin": true,
            "type": "pie"
           }
          ],
          "scatter": [
           {
            "marker": {
             "colorbar": {
              "outlinewidth": 0,
              "ticks": ""
             }
            },
            "type": "scatter"
           }
          ],
          "scatter3d": [
           {
            "line": {
             "colorbar": {
              "outlinewidth": 0,
              "ticks": ""
             }
            },
            "marker": {
             "colorbar": {
              "outlinewidth": 0,
              "ticks": ""
             }
            },
            "type": "scatter3d"
           }
          ],
          "scattercarpet": [
           {
            "marker": {
             "colorbar": {
              "outlinewidth": 0,
              "ticks": ""
             }
            },
            "type": "scattercarpet"
           }
          ],
          "scattergeo": [
           {
            "marker": {
             "colorbar": {
              "outlinewidth": 0,
              "ticks": ""
             }
            },
            "type": "scattergeo"
           }
          ],
          "scattergl": [
           {
            "marker": {
             "colorbar": {
              "outlinewidth": 0,
              "ticks": ""
             }
            },
            "type": "scattergl"
           }
          ],
          "scattermapbox": [
           {
            "marker": {
             "colorbar": {
              "outlinewidth": 0,
              "ticks": ""
             }
            },
            "type": "scattermapbox"
           }
          ],
          "scatterpolar": [
           {
            "marker": {
             "colorbar": {
              "outlinewidth": 0,
              "ticks": ""
             }
            },
            "type": "scatterpolar"
           }
          ],
          "scatterpolargl": [
           {
            "marker": {
             "colorbar": {
              "outlinewidth": 0,
              "ticks": ""
             }
            },
            "type": "scatterpolargl"
           }
          ],
          "scatterternary": [
           {
            "marker": {
             "colorbar": {
              "outlinewidth": 0,
              "ticks": ""
             }
            },
            "type": "scatterternary"
           }
          ],
          "surface": [
           {
            "colorbar": {
             "outlinewidth": 0,
             "ticks": ""
            },
            "colorscale": [
             [
              0,
              "#0d0887"
             ],
             [
              0.1111111111111111,
              "#46039f"
             ],
             [
              0.2222222222222222,
              "#7201a8"
             ],
             [
              0.3333333333333333,
              "#9c179e"
             ],
             [
              0.4444444444444444,
              "#bd3786"
             ],
             [
              0.5555555555555556,
              "#d8576b"
             ],
             [
              0.6666666666666666,
              "#ed7953"
             ],
             [
              0.7777777777777778,
              "#fb9f3a"
             ],
             [
              0.8888888888888888,
              "#fdca26"
             ],
             [
              1,
              "#f0f921"
             ]
            ],
            "type": "surface"
           }
          ],
          "table": [
           {
            "cells": {
             "fill": {
              "color": "#EBF0F8"
             },
             "line": {
              "color": "white"
             }
            },
            "header": {
             "fill": {
              "color": "#C8D4E3"
             },
             "line": {
              "color": "white"
             }
            },
            "type": "table"
           }
          ]
         },
         "layout": {
          "annotationdefaults": {
           "arrowcolor": "#2a3f5f",
           "arrowhead": 0,
           "arrowwidth": 1
          },
          "autotypenumbers": "strict",
          "coloraxis": {
           "colorbar": {
            "outlinewidth": 0,
            "ticks": ""
           }
          },
          "colorscale": {
           "diverging": [
            [
             0,
             "#8e0152"
            ],
            [
             0.1,
             "#c51b7d"
            ],
            [
             0.2,
             "#de77ae"
            ],
            [
             0.3,
             "#f1b6da"
            ],
            [
             0.4,
             "#fde0ef"
            ],
            [
             0.5,
             "#f7f7f7"
            ],
            [
             0.6,
             "#e6f5d0"
            ],
            [
             0.7,
             "#b8e186"
            ],
            [
             0.8,
             "#7fbc41"
            ],
            [
             0.9,
             "#4d9221"
            ],
            [
             1,
             "#276419"
            ]
           ],
           "sequential": [
            [
             0,
             "#0d0887"
            ],
            [
             0.1111111111111111,
             "#46039f"
            ],
            [
             0.2222222222222222,
             "#7201a8"
            ],
            [
             0.3333333333333333,
             "#9c179e"
            ],
            [
             0.4444444444444444,
             "#bd3786"
            ],
            [
             0.5555555555555556,
             "#d8576b"
            ],
            [
             0.6666666666666666,
             "#ed7953"
            ],
            [
             0.7777777777777778,
             "#fb9f3a"
            ],
            [
             0.8888888888888888,
             "#fdca26"
            ],
            [
             1,
             "#f0f921"
            ]
           ],
           "sequentialminus": [
            [
             0,
             "#0d0887"
            ],
            [
             0.1111111111111111,
             "#46039f"
            ],
            [
             0.2222222222222222,
             "#7201a8"
            ],
            [
             0.3333333333333333,
             "#9c179e"
            ],
            [
             0.4444444444444444,
             "#bd3786"
            ],
            [
             0.5555555555555556,
             "#d8576b"
            ],
            [
             0.6666666666666666,
             "#ed7953"
            ],
            [
             0.7777777777777778,
             "#fb9f3a"
            ],
            [
             0.8888888888888888,
             "#fdca26"
            ],
            [
             1,
             "#f0f921"
            ]
           ]
          },
          "colorway": [
           "#636efa",
           "#EF553B",
           "#00cc96",
           "#ab63fa",
           "#FFA15A",
           "#19d3f3",
           "#FF6692",
           "#B6E880",
           "#FF97FF",
           "#FECB52"
          ],
          "font": {
           "color": "#2a3f5f"
          },
          "geo": {
           "bgcolor": "white",
           "lakecolor": "white",
           "landcolor": "#E5ECF6",
           "showlakes": true,
           "showland": true,
           "subunitcolor": "white"
          },
          "hoverlabel": {
           "align": "left"
          },
          "hovermode": "closest",
          "mapbox": {
           "style": "light"
          },
          "paper_bgcolor": "white",
          "plot_bgcolor": "#E5ECF6",
          "polar": {
           "angularaxis": {
            "gridcolor": "white",
            "linecolor": "white",
            "ticks": ""
           },
           "bgcolor": "#E5ECF6",
           "radialaxis": {
            "gridcolor": "white",
            "linecolor": "white",
            "ticks": ""
           }
          },
          "scene": {
           "xaxis": {
            "backgroundcolor": "#E5ECF6",
            "gridcolor": "white",
            "gridwidth": 2,
            "linecolor": "white",
            "showbackground": true,
            "ticks": "",
            "zerolinecolor": "white"
           },
           "yaxis": {
            "backgroundcolor": "#E5ECF6",
            "gridcolor": "white",
            "gridwidth": 2,
            "linecolor": "white",
            "showbackground": true,
            "ticks": "",
            "zerolinecolor": "white"
           },
           "zaxis": {
            "backgroundcolor": "#E5ECF6",
            "gridcolor": "white",
            "gridwidth": 2,
            "linecolor": "white",
            "showbackground": true,
            "ticks": "",
            "zerolinecolor": "white"
           }
          },
          "shapedefaults": {
           "line": {
            "color": "#2a3f5f"
           }
          },
          "ternary": {
           "aaxis": {
            "gridcolor": "white",
            "linecolor": "white",
            "ticks": ""
           },
           "baxis": {
            "gridcolor": "white",
            "linecolor": "white",
            "ticks": ""
           },
           "bgcolor": "#E5ECF6",
           "caxis": {
            "gridcolor": "white",
            "linecolor": "white",
            "ticks": ""
           }
          },
          "title": {
           "x": 0.05
          },
          "xaxis": {
           "automargin": true,
           "gridcolor": "white",
           "linecolor": "white",
           "ticks": "",
           "title": {
            "standoff": 15
           },
           "zerolinecolor": "white",
           "zerolinewidth": 2
          },
          "yaxis": {
           "automargin": true,
           "gridcolor": "white",
           "linecolor": "white",
           "ticks": "",
           "title": {
            "standoff": 15
           },
           "zerolinecolor": "white",
           "zerolinewidth": 2
          }
         }
        },
        "xaxis": {
         "tickangle": 45,
         "tickformat": "%Y",
         "tickmode": "array",
         "ticktext": [
          2015,
          2017,
          2019
         ],
         "tickvals": [
          2015,
          2017,
          2019
         ],
         "title": {
          "text": "Year"
         }
        },
        "yaxis": {
         "rangemode": "tozero",
         "title": {
          "text": "%"
         }
        }
       }
      },
      "text/html": [
       "<div>                            <div id=\"c1dee90a-6dc3-4b8d-ac9e-f82707e2191b\" class=\"plotly-graph-div\" style=\"height:525px; width:100%;\"></div>            <script type=\"text/javascript\">                require([\"plotly\"], function(Plotly) {                    window.PLOTLYENV=window.PLOTLYENV || {};                                    if (document.getElementById(\"c1dee90a-6dc3-4b8d-ac9e-f82707e2191b\")) {                    Plotly.newPlot(                        \"c1dee90a-6dc3-4b8d-ac9e-f82707e2191b\",                        [{\"mode\": \"lines+markers\", \"name\": \"Male\", \"type\": \"scatter\", \"x\": [2015, 2017, 2019], \"y\": [88.7, 90.1, 89.6]}, {\"mode\": \"lines+markers\", \"name\": \"Female\", \"type\": \"scatter\", \"x\": [2015, 2017, 2019], \"y\": [92.4, 91.1, 91.5]}],                        {\"font\": {\"color\": \"RebeccaPurple\", \"family\": \"Courier New, monospace\", \"size\": 18}, \"template\": {\"data\": {\"bar\": [{\"error_x\": {\"color\": \"#2a3f5f\"}, \"error_y\": {\"color\": \"#2a3f5f\"}, \"marker\": {\"line\": {\"color\": \"#E5ECF6\", \"width\": 0.5}}, \"type\": \"bar\"}], \"barpolar\": [{\"marker\": {\"line\": {\"color\": \"#E5ECF6\", \"width\": 0.5}}, \"type\": \"barpolar\"}], \"carpet\": [{\"aaxis\": {\"endlinecolor\": \"#2a3f5f\", \"gridcolor\": \"white\", \"linecolor\": \"white\", \"minorgridcolor\": \"white\", \"startlinecolor\": \"#2a3f5f\"}, \"baxis\": {\"endlinecolor\": \"#2a3f5f\", \"gridcolor\": \"white\", \"linecolor\": \"white\", \"minorgridcolor\": \"white\", \"startlinecolor\": \"#2a3f5f\"}, \"type\": \"carpet\"}], \"choropleth\": [{\"colorbar\": {\"outlinewidth\": 0, \"ticks\": \"\"}, \"type\": \"choropleth\"}], \"contour\": [{\"colorbar\": {\"outlinewidth\": 0, \"ticks\": \"\"}, \"colorscale\": [[0.0, \"#0d0887\"], [0.1111111111111111, \"#46039f\"], [0.2222222222222222, \"#7201a8\"], [0.3333333333333333, \"#9c179e\"], [0.4444444444444444, \"#bd3786\"], [0.5555555555555556, \"#d8576b\"], [0.6666666666666666, \"#ed7953\"], [0.7777777777777778, \"#fb9f3a\"], [0.8888888888888888, \"#fdca26\"], [1.0, \"#f0f921\"]], \"type\": \"contour\"}], \"contourcarpet\": [{\"colorbar\": {\"outlinewidth\": 0, \"ticks\": \"\"}, \"type\": \"contourcarpet\"}], \"heatmap\": [{\"colorbar\": {\"outlinewidth\": 0, \"ticks\": \"\"}, \"colorscale\": [[0.0, \"#0d0887\"], [0.1111111111111111, \"#46039f\"], [0.2222222222222222, \"#7201a8\"], [0.3333333333333333, \"#9c179e\"], [0.4444444444444444, \"#bd3786\"], [0.5555555555555556, \"#d8576b\"], [0.6666666666666666, \"#ed7953\"], [0.7777777777777778, \"#fb9f3a\"], [0.8888888888888888, \"#fdca26\"], [1.0, \"#f0f921\"]], \"type\": \"heatmap\"}], \"heatmapgl\": [{\"colorbar\": {\"outlinewidth\": 0, \"ticks\": \"\"}, \"colorscale\": [[0.0, \"#0d0887\"], [0.1111111111111111, \"#46039f\"], [0.2222222222222222, \"#7201a8\"], [0.3333333333333333, \"#9c179e\"], [0.4444444444444444, \"#bd3786\"], [0.5555555555555556, \"#d8576b\"], [0.6666666666666666, \"#ed7953\"], [0.7777777777777778, \"#fb9f3a\"], [0.8888888888888888, \"#fdca26\"], [1.0, \"#f0f921\"]], \"type\": \"heatmapgl\"}], \"histogram\": [{\"marker\": {\"colorbar\": {\"outlinewidth\": 0, \"ticks\": \"\"}}, \"type\": \"histogram\"}], \"histogram2d\": [{\"colorbar\": {\"outlinewidth\": 0, \"ticks\": \"\"}, \"colorscale\": [[0.0, \"#0d0887\"], [0.1111111111111111, \"#46039f\"], [0.2222222222222222, \"#7201a8\"], [0.3333333333333333, \"#9c179e\"], [0.4444444444444444, \"#bd3786\"], [0.5555555555555556, \"#d8576b\"], [0.6666666666666666, \"#ed7953\"], [0.7777777777777778, \"#fb9f3a\"], [0.8888888888888888, \"#fdca26\"], [1.0, \"#f0f921\"]], \"type\": \"histogram2d\"}], \"histogram2dcontour\": [{\"colorbar\": {\"outlinewidth\": 0, \"ticks\": \"\"}, \"colorscale\": [[0.0, \"#0d0887\"], [0.1111111111111111, \"#46039f\"], [0.2222222222222222, \"#7201a8\"], [0.3333333333333333, \"#9c179e\"], [0.4444444444444444, \"#bd3786\"], [0.5555555555555556, \"#d8576b\"], [0.6666666666666666, \"#ed7953\"], [0.7777777777777778, \"#fb9f3a\"], [0.8888888888888888, \"#fdca26\"], [1.0, \"#f0f921\"]], \"type\": \"histogram2dcontour\"}], \"mesh3d\": [{\"colorbar\": {\"outlinewidth\": 0, \"ticks\": \"\"}, \"type\": \"mesh3d\"}], \"parcoords\": [{\"line\": {\"colorbar\": {\"outlinewidth\": 0, \"ticks\": \"\"}}, \"type\": \"parcoords\"}], \"pie\": [{\"automargin\": true, \"type\": \"pie\"}], \"scatter\": [{\"marker\": {\"colorbar\": {\"outlinewidth\": 0, \"ticks\": \"\"}}, \"type\": \"scatter\"}], \"scatter3d\": [{\"line\": {\"colorbar\": {\"outlinewidth\": 0, \"ticks\": \"\"}}, \"marker\": {\"colorbar\": {\"outlinewidth\": 0, \"ticks\": \"\"}}, \"type\": \"scatter3d\"}], \"scattercarpet\": [{\"marker\": {\"colorbar\": {\"outlinewidth\": 0, \"ticks\": \"\"}}, \"type\": \"scattercarpet\"}], \"scattergeo\": [{\"marker\": {\"colorbar\": {\"outlinewidth\": 0, \"ticks\": \"\"}}, \"type\": \"scattergeo\"}], \"scattergl\": [{\"marker\": {\"colorbar\": {\"outlinewidth\": 0, \"ticks\": \"\"}}, \"type\": \"scattergl\"}], \"scattermapbox\": [{\"marker\": {\"colorbar\": {\"outlinewidth\": 0, \"ticks\": \"\"}}, \"type\": \"scattermapbox\"}], \"scatterpolar\": [{\"marker\": {\"colorbar\": {\"outlinewidth\": 0, \"ticks\": \"\"}}, \"type\": \"scatterpolar\"}], \"scatterpolargl\": [{\"marker\": {\"colorbar\": {\"outlinewidth\": 0, \"ticks\": \"\"}}, \"type\": \"scatterpolargl\"}], \"scatterternary\": [{\"marker\": {\"colorbar\": {\"outlinewidth\": 0, \"ticks\": \"\"}}, \"type\": \"scatterternary\"}], \"surface\": [{\"colorbar\": {\"outlinewidth\": 0, \"ticks\": \"\"}, \"colorscale\": [[0.0, \"#0d0887\"], [0.1111111111111111, \"#46039f\"], [0.2222222222222222, \"#7201a8\"], [0.3333333333333333, \"#9c179e\"], [0.4444444444444444, \"#bd3786\"], [0.5555555555555556, \"#d8576b\"], [0.6666666666666666, \"#ed7953\"], [0.7777777777777778, \"#fb9f3a\"], [0.8888888888888888, \"#fdca26\"], [1.0, \"#f0f921\"]], \"type\": \"surface\"}], \"table\": [{\"cells\": {\"fill\": {\"color\": \"#EBF0F8\"}, \"line\": {\"color\": \"white\"}}, \"header\": {\"fill\": {\"color\": \"#C8D4E3\"}, \"line\": {\"color\": \"white\"}}, \"type\": \"table\"}]}, \"layout\": {\"annotationdefaults\": {\"arrowcolor\": \"#2a3f5f\", \"arrowhead\": 0, \"arrowwidth\": 1}, \"autotypenumbers\": \"strict\", \"coloraxis\": {\"colorbar\": {\"outlinewidth\": 0, \"ticks\": \"\"}}, \"colorscale\": {\"diverging\": [[0, \"#8e0152\"], [0.1, \"#c51b7d\"], [0.2, \"#de77ae\"], [0.3, \"#f1b6da\"], [0.4, \"#fde0ef\"], [0.5, \"#f7f7f7\"], [0.6, \"#e6f5d0\"], [0.7, \"#b8e186\"], [0.8, \"#7fbc41\"], [0.9, \"#4d9221\"], [1, \"#276419\"]], \"sequential\": [[0.0, \"#0d0887\"], [0.1111111111111111, \"#46039f\"], [0.2222222222222222, \"#7201a8\"], [0.3333333333333333, \"#9c179e\"], [0.4444444444444444, \"#bd3786\"], [0.5555555555555556, \"#d8576b\"], [0.6666666666666666, \"#ed7953\"], [0.7777777777777778, \"#fb9f3a\"], [0.8888888888888888, \"#fdca26\"], [1.0, \"#f0f921\"]], \"sequentialminus\": [[0.0, \"#0d0887\"], [0.1111111111111111, \"#46039f\"], [0.2222222222222222, \"#7201a8\"], [0.3333333333333333, \"#9c179e\"], [0.4444444444444444, \"#bd3786\"], [0.5555555555555556, \"#d8576b\"], [0.6666666666666666, \"#ed7953\"], [0.7777777777777778, \"#fb9f3a\"], [0.8888888888888888, \"#fdca26\"], [1.0, \"#f0f921\"]]}, \"colorway\": [\"#636efa\", \"#EF553B\", \"#00cc96\", \"#ab63fa\", \"#FFA15A\", \"#19d3f3\", \"#FF6692\", \"#B6E880\", \"#FF97FF\", \"#FECB52\"], \"font\": {\"color\": \"#2a3f5f\"}, \"geo\": {\"bgcolor\": \"white\", \"lakecolor\": \"white\", \"landcolor\": \"#E5ECF6\", \"showlakes\": true, \"showland\": true, \"subunitcolor\": \"white\"}, \"hoverlabel\": {\"align\": \"left\"}, \"hovermode\": \"closest\", \"mapbox\": {\"style\": \"light\"}, \"paper_bgcolor\": \"white\", \"plot_bgcolor\": \"#E5ECF6\", \"polar\": {\"angularaxis\": {\"gridcolor\": \"white\", \"linecolor\": \"white\", \"ticks\": \"\"}, \"bgcolor\": \"#E5ECF6\", \"radialaxis\": {\"gridcolor\": \"white\", \"linecolor\": \"white\", \"ticks\": \"\"}}, \"scene\": {\"xaxis\": {\"backgroundcolor\": \"#E5ECF6\", \"gridcolor\": \"white\", \"gridwidth\": 2, \"linecolor\": \"white\", \"showbackground\": true, \"ticks\": \"\", \"zerolinecolor\": \"white\"}, \"yaxis\": {\"backgroundcolor\": \"#E5ECF6\", \"gridcolor\": \"white\", \"gridwidth\": 2, \"linecolor\": \"white\", \"showbackground\": true, \"ticks\": \"\", \"zerolinecolor\": \"white\"}, \"zaxis\": {\"backgroundcolor\": \"#E5ECF6\", \"gridcolor\": \"white\", \"gridwidth\": 2, \"linecolor\": \"white\", \"showbackground\": true, \"ticks\": \"\", \"zerolinecolor\": \"white\"}}, \"shapedefaults\": {\"line\": {\"color\": \"#2a3f5f\"}}, \"ternary\": {\"aaxis\": {\"gridcolor\": \"white\", \"linecolor\": \"white\", \"ticks\": \"\"}, \"baxis\": {\"gridcolor\": \"white\", \"linecolor\": \"white\", \"ticks\": \"\"}, \"bgcolor\": \"#E5ECF6\", \"caxis\": {\"gridcolor\": \"white\", \"linecolor\": \"white\", \"ticks\": \"\"}}, \"title\": {\"x\": 0.05}, \"xaxis\": {\"automargin\": true, \"gridcolor\": \"white\", \"linecolor\": \"white\", \"ticks\": \"\", \"title\": {\"standoff\": 15}, \"zerolinecolor\": \"white\", \"zerolinewidth\": 2}, \"yaxis\": {\"automargin\": true, \"gridcolor\": \"white\", \"linecolor\": \"white\", \"ticks\": \"\", \"title\": {\"standoff\": 15}, \"zerolinecolor\": \"white\", \"zerolinewidth\": 2}}}, \"xaxis\": {\"tickangle\": 45, \"tickformat\": \"%Y\", \"tickmode\": \"array\", \"ticktext\": [2015, 2017, 2019], \"tickvals\": [2015, 2017, 2019], \"title\": {\"text\": \"Year\"}}, \"yaxis\": {\"rangemode\": \"tozero\", \"title\": {\"text\": \"%\"}}},                        {\"responsive\": true}                    ).then(function(){\n",
       "                            \n",
       "var gd = document.getElementById('c1dee90a-6dc3-4b8d-ac9e-f82707e2191b');\n",
       "var x = new MutationObserver(function (mutations, observer) {{\n",
       "        var display = window.getComputedStyle(gd).display;\n",
       "        if (!display || display === 'none') {{\n",
       "            console.log([gd, 'removed!']);\n",
       "            Plotly.purge(gd);\n",
       "            observer.disconnect();\n",
       "        }}\n",
       "}});\n",
       "\n",
       "// Listen for the removal of the full notebook cells\n",
       "var notebookContainer = gd.closest('#notebook-container');\n",
       "if (notebookContainer) {{\n",
       "    x.observe(notebookContainer, {childList: true});\n",
       "}}\n",
       "\n",
       "// Listen for the clearing of the current output cell\n",
       "var outputEl = gd.closest('.output');\n",
       "if (outputEl) {{\n",
       "    x.observe(outputEl, {childList: true});\n",
       "}}\n",
       "\n",
       "                        })                };                });            </script>        </div>"
      ]
     },
     "metadata": {},
     "output_type": "display_data"
    }
   ],
   "source": [
    "dropdown_menu_widget_healthy_aging(healthy_aging_data, dataset_analysis_aging_gender, dataset_analysis_aging_race, \n",
    "                                   dataset_analysis_aging_overall, questions_list)"
   ]
  },
  {
   "cell_type": "code",
   "execution_count": null,
   "id": "11b499f9",
   "metadata": {},
   "outputs": [],
   "source": []
  }
 ],
 "metadata": {
  "kernelspec": {
   "display_name": "Python 3",
   "language": "python",
   "name": "python3"
  },
  "language_info": {
   "codemirror_mode": {
    "name": "ipython",
    "version": 3
   },
   "file_extension": ".py",
   "mimetype": "text/x-python",
   "name": "python",
   "nbconvert_exporter": "python",
   "pygments_lexer": "ipython3",
   "version": "3.6.13"
  }
 },
 "nbformat": 4,
 "nbformat_minor": 5
}
