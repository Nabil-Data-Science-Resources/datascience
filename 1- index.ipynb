{
 "cells": [
  {
   "cell_type": "markdown",
   "id": "7ce642fe",
   "metadata": {},
   "source": [
    "# <font color='red'> How to work with data in python \n",
    "***\n",
    "***"
   ]
  },
  {
   "cell_type": "markdown",
   "id": "5e1fc208",
   "metadata": {},
   "source": [
    "Working with data in any language (not only python) is a key to deliver an analysis that can be used for decisions and inferences. I have tried to compile a knowledge that can be sued when a data analysis project is needed. It will serve as a table content of the different Jupiter notebooks in the is series. \n",
    "Whenever you want to conduct a data science project (at least for me), you can start from those set of notebooks to save you sometime. That been said, nothing is perfect on this world, therefore you might face a source of data that is more complex compared to those cases I have."
   ]
  },
  {
   "cell_type": "markdown",
   "id": "a4940ba1",
   "metadata": {},
   "source": [
    "# <font color='blue'> Table of content\n",
    "\n",
    "1. importing data from different sources\n",
    "2. Data cleaning and preparation\n",
    "3. Data analysis and statistics\n",
    "4. Data visualization\n",
    "5. Predictions\n",
    "6. Machine learning"
   ]
  },
  {
   "cell_type": "code",
   "execution_count": null,
   "id": "b7a6a56c",
   "metadata": {},
   "outputs": [],
   "source": []
  }
 ],
 "metadata": {
  "kernelspec": {
   "display_name": "Python 3",
   "language": "python",
   "name": "python3"
  },
  "language_info": {
   "codemirror_mode": {
    "name": "ipython",
    "version": 3
   },
   "file_extension": ".py",
   "mimetype": "text/x-python",
   "name": "python",
   "nbconvert_exporter": "python",
   "pygments_lexer": "ipython3",
   "version": "3.6.13"
  }
 },
 "nbformat": 4,
 "nbformat_minor": 5
}
