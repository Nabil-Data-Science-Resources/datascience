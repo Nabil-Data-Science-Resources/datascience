{
 "cells": [
  {
   "cell_type": "markdown",
   "id": "031c1df2",
   "metadata": {},
   "source": [
    "# <font color='red'> Importing data from different sources to a dataframe\n",
    "***\n",
    "***"
   ]
  },
  {
   "cell_type": "markdown",
   "id": "284de794",
   "metadata": {},
   "source": [
    "This whole Jupiter notebook will be focusing on how to import data from multiple sources into a data frame (for generalization). I have covered most of the well-known sources to be used as first step of conduction any analysis. The notebook meant to focus on have a reference whenever a data science project is conducted. Once data imported into  "
   ]
  },
  {
   "cell_type": "markdown",
   "id": "fc5cf01b",
   "metadata": {},
   "source": [
    "Data is a key for any data analysis, its an essential ingredient to be able to extract facts or insights. \n",
    "The analysis of data (from the past) using methods such as descriptive statistics, summarization, visualization, or aggregation will enable any data scientist to build on conclusions that can help decision in the future. Even when we are talking about advanced techniques such as prediction or machine learning we are required to have some sort of data that we analyze to build some insights of how things can be in future."
   ]
  },
  {
   "cell_type": "markdown",
   "id": "3838a190",
   "metadata": {},
   "source": [
    "Data sources covered:\n",
    "1. CSV\n",
    "2. XML\n",
    "3. Webpages\n",
    "4. Json\n",
    "5. Parquet\n",
    "6. PDF\n",
    "7. MS Word\n",
    "8. ORC\n",
    "9. AVRO\n",
    "10. YAML\n",
    "11. API response\n",
    "12. Databases"
   ]
  },
  {
   "cell_type": "markdown",
   "id": "0f3a2c19",
   "metadata": {},
   "source": [
    "<a id='1'></a>\n",
    "## <font color='blue'>1 Data from CSV files (local or online)"
   ]
  },
  {
   "cell_type": "markdown",
   "id": "3c4aee28",
   "metadata": {},
   "source": [
    "<a id='1.1'></a>\n",
    "### <font color='green'>1.1 import all required packages"
   ]
  },
  {
   "cell_type": "code",
   "execution_count": null,
   "id": "7a9d219b",
   "metadata": {},
   "outputs": [],
   "source": [
    "import pandas as pd"
   ]
  },
  {
   "cell_type": "markdown",
   "id": "4ded575a",
   "metadata": {},
   "source": [
    "### <font color='green'>1.2 import your csv file into a dataframe from url"
   ]
  },
  {
   "cell_type": "code",
   "execution_count": null,
   "id": "cb3cf778",
   "metadata": {},
   "outputs": [],
   "source": [
    "dfcovid = pd.read_csv('https://covid.ourworldindata.org/data/owid-covid-data.csv')"
   ]
  },
  {
   "cell_type": "markdown",
   "id": "a2fb7006",
   "metadata": {},
   "source": [
    "## <font color='blue'>2 Data from XML files"
   ]
  },
  {
   "cell_type": "markdown",
   "id": "f9955f64",
   "metadata": {},
   "source": [
    "### <font color='green'>2.1 Working with local xml files"
   ]
  },
  {
   "cell_type": "markdown",
   "id": "613042a5",
   "metadata": {},
   "source": [
    "#### <font color='purple'>2.1.1 Import all required packages"
   ]
  },
  {
   "cell_type": "code",
   "execution_count": null,
   "id": "8dd4b5ec",
   "metadata": {},
   "outputs": [],
   "source": [
    "import xml.etree.ElementTree as ET"
   ]
  },
  {
   "cell_type": "markdown",
   "id": "1820210c",
   "metadata": {},
   "source": [
    "#### 2.1.2 <font color='purple'>Import your XML file into a dataframe"
   ]
  },
  {
   "cell_type": "code",
   "execution_count": null,
   "id": "d51bebbe",
   "metadata": {},
   "outputs": [],
   "source": [
    "tree = ET.parse('covid.xml')"
   ]
  },
  {
   "cell_type": "markdown",
   "id": "bfa16cfc",
   "metadata": {},
   "source": [
    "#### <font color='purple'>2.1.3 Get the root of the document"
   ]
  },
  {
   "cell_type": "code",
   "execution_count": null,
   "id": "f80d56ad",
   "metadata": {},
   "outputs": [],
   "source": [
    "root = tree.getroot()\n",
    "root"
   ]
  },
  {
   "cell_type": "markdown",
   "id": "c7b7e5af",
   "metadata": {},
   "source": [
    "#### <font color='purple'>2.1.4 Get the root tag"
   ]
  },
  {
   "cell_type": "code",
   "execution_count": null,
   "id": "0e1cfe7d",
   "metadata": {},
   "outputs": [],
   "source": [
    "root.tag"
   ]
  },
  {
   "cell_type": "markdown",
   "id": "1c7ca63c",
   "metadata": {},
   "source": [
    "#### <font color='purple'>2.1.5 Get the root attributes if it has any"
   ]
  },
  {
   "cell_type": "code",
   "execution_count": null,
   "id": "d89794d7",
   "metadata": {},
   "outputs": [],
   "source": [
    "root.attrib"
   ]
  },
  {
   "cell_type": "markdown",
   "id": "09cca667",
   "metadata": {},
   "source": [
    "#### <font color='purple'>2.1.6 Get the root childs tags and text if it has any"
   ]
  },
  {
   "cell_type": "code",
   "execution_count": null,
   "id": "d2186aa6",
   "metadata": {},
   "outputs": [],
   "source": [
    "[elem.tag for elem in root.iter()]"
   ]
  },
  {
   "cell_type": "markdown",
   "id": "a6df33d5",
   "metadata": {},
   "source": [
    "#### <font color='purple'>2.1.7 Get the document and butify the look"
   ]
  },
  {
   "cell_type": "code",
   "execution_count": null,
   "id": "f081ed0e",
   "metadata": {},
   "outputs": [],
   "source": [
    "print(ET.tostring(root, encoding='utf8').decode('utf8'))"
   ]
  },
  {
   "cell_type": "markdown",
   "id": "b07b8386",
   "metadata": {},
   "source": [
    "#### <font color='purple'>2.1.8 Get the child and subchilds tags and text(value)"
   ]
  },
  {
   "cell_type": "code",
   "execution_count": null,
   "id": "99124a4a",
   "metadata": {},
   "outputs": [],
   "source": [
    "for child in root:\n",
    "    for childs in child:\n",
    "        print(childs.tag, childs.text)"
   ]
  },
  {
   "cell_type": "markdown",
   "id": "f8c4ddcb",
   "metadata": {},
   "source": [
    "#### <font color='purple'>2.1.9 Get a specific subchild tags and text(value)"
   ]
  },
  {
   "cell_type": "code",
   "execution_count": null,
   "id": "f306a570",
   "metadata": {},
   "outputs": [],
   "source": [
    "for subchild in root.iter('cases'):\n",
    "    print(subchild.tag,subchild.text)"
   ]
  },
  {
   "cell_type": "markdown",
   "id": "d8b13274",
   "metadata": {},
   "source": [
    "#### <font color='purple'>2.1.10 Convert the document to a dataframe and select teh columns you want"
   ]
  },
  {
   "cell_type": "code",
   "execution_count": null,
   "id": "740b2b6c",
   "metadata": {},
   "outputs": [],
   "source": [
    "df_cols = [\"date\", \"country\", \"continent\", \"population\", \"cases\"]\n",
    "rows = []\n",
    "for node in root: \n",
    "    dateRep = node.find(\"dateRep\").text\n",
    "    countriesAndTerritories = node.find(\"countriesAndTerritories\").text\n",
    "    continentExp = node.find(\"continentExp\").text\n",
    "    popData2020 = node.find(\"popData2020\").text\n",
    "    cases= node.find(\"cases\").text\n",
    "    rows.append({\"date\": dateRep, \"country\": countriesAndTerritories, \"continent\": continentExp, \"population\": popData2020, \"cases\": cases})\n",
    "\n",
    "df = pd.DataFrame(rows, columns = df_cols)\n",
    "df"
   ]
  },
  {
   "cell_type": "markdown",
   "id": "83d9a31c",
   "metadata": {},
   "source": [
    "### <font color='green'>2.2 Online XML scrapping from weppage"
   ]
  },
  {
   "cell_type": "markdown",
   "id": "5244f230",
   "metadata": {},
   "source": [
    "#### <font color='purple'>2.2.1 Using the urlib to get data"
   ]
  },
  {
   "cell_type": "markdown",
   "id": "5fdf4539",
   "metadata": {},
   "source": [
    "##### 2.2.1.1 <font color='orange'>Import the required packages"
   ]
  },
  {
   "cell_type": "code",
   "execution_count": null,
   "id": "4e698935",
   "metadata": {},
   "outputs": [],
   "source": [
    "import xml.etree.ElementTree as ET\n",
    "import urllib\n",
    "import pandas"
   ]
  },
  {
   "cell_type": "markdown",
   "id": "7442e925",
   "metadata": {},
   "source": [
    "##### <font color='orange'>2.2.1.2 call url and get reposnse and change it to text Using requests libaray"
   ]
  },
  {
   "cell_type": "code",
   "execution_count": null,
   "id": "9e7b8153",
   "metadata": {},
   "outputs": [],
   "source": [
    "url = 'https://opendata.ecdc.europa.eu/covid19/nationalcasedeath_eueea_daily_ei/xml/'\n",
    "response = urllib.request.urlopen(url).read()\n",
    "tree = ET.fromstring(response)\n",
    "tree"
   ]
  },
  {
   "cell_type": "markdown",
   "id": "8f570b73",
   "metadata": {},
   "source": [
    "##### <font color='orange'>2.2.1.3 Find the main tag"
   ]
  },
  {
   "cell_type": "code",
   "execution_count": null,
   "id": "5bb6ee4e",
   "metadata": {},
   "outputs": [],
   "source": [
    "tree.tag"
   ]
  },
  {
   "cell_type": "markdown",
   "id": "866295bf",
   "metadata": {},
   "source": [
    "##### <font color='orange'>2.2.1.4 Count the child tags (records)"
   ]
  },
  {
   "cell_type": "code",
   "execution_count": null,
   "id": "6e12e866",
   "metadata": {},
   "outputs": [],
   "source": [
    "len(list(tree))"
   ]
  },
  {
   "cell_type": "markdown",
   "id": "6ff3e6e9",
   "metadata": {},
   "source": [
    "##### <font color='orange'>2.2.1.5 You can print the childs of the child if you want"
   ]
  },
  {
   "cell_type": "code",
   "execution_count": null,
   "id": "dc9dac21",
   "metadata": {},
   "outputs": [],
   "source": [
    "for child in tree:\n",
    "    for childs in child:\n",
    "        print(childs.tag, childs.text)"
   ]
  },
  {
   "cell_type": "markdown",
   "id": "98b2b23d",
   "metadata": {},
   "source": [
    "##### <font color='orange'>2.2.1.6 Altrernativly use elem"
   ]
  },
  {
   "cell_type": "code",
   "execution_count": null,
   "id": "f4ed4d10",
   "metadata": {},
   "outputs": [],
   "source": [
    "[elem.tag for elem in tree.iter()]"
   ]
  },
  {
   "cell_type": "markdown",
   "id": "68681a77",
   "metadata": {},
   "source": [
    "##### <font color='orange'>2.2.1.7 Use iterator to get all the nodes"
   ]
  },
  {
   "cell_type": "code",
   "execution_count": null,
   "id": "f8c3e6f4",
   "metadata": {},
   "outputs": [],
   "source": [
    "for node in tree.iter('*'):\n",
    "    print(node.tag)"
   ]
  },
  {
   "cell_type": "markdown",
   "id": "0fef2686",
   "metadata": {},
   "source": [
    "##### <font color='orange'>2.2.1.8 Butify and view the document"
   ]
  },
  {
   "cell_type": "code",
   "execution_count": null,
   "id": "1d9c9e61",
   "metadata": {},
   "outputs": [],
   "source": [
    "print(ET.tostring(tree, encoding='utf8').decode('utf8'))"
   ]
  },
  {
   "cell_type": "markdown",
   "id": "59ec7f53",
   "metadata": {},
   "source": [
    "##### <font color='orange'>2.2.1.9 Copy the fields you are interested with to a data frame"
   ]
  },
  {
   "cell_type": "code",
   "execution_count": null,
   "id": "f36f70aa",
   "metadata": {},
   "outputs": [],
   "source": [
    "cols = [\"date\", \"country\", \"continent\", \"population\", \"cases\"]\n",
    "rows = []\n",
    "for node in tree: \n",
    "    dateRep = node.find(\"dateRep\").text\n",
    "    countriesAndTerritories = node.find(\"countriesAndTerritories\").text\n",
    "    continentExp = node.find(\"continentExp\").text\n",
    "    popData2020 = node.find(\"popData2020\").text\n",
    "    cases= node.find(\"cases\").text\n",
    "    rows.append({\"date\": dateRep, \"country\": countriesAndTerritories, \"continent\": continentExp, \"population\": popData2020, \"cases\": cases})\n",
    "\n",
    "df = pd.DataFrame(rows, columns = df_cols)\n",
    "df"
   ]
  },
  {
   "cell_type": "markdown",
   "id": "c0536d04",
   "metadata": {},
   "source": [
    "#### <font color='purple'>2.2.2 Using bs4 libaray"
   ]
  },
  {
   "cell_type": "markdown",
   "id": "4d16c9cc",
   "metadata": {},
   "source": [
    "##### <font color='orange'>2.2.2.1 import packages"
   ]
  },
  {
   "cell_type": "code",
   "execution_count": null,
   "id": "4577dca3",
   "metadata": {},
   "outputs": [],
   "source": [
    "from bs4 import BeautifulSoup as bs"
   ]
  },
  {
   "cell_type": "markdown",
   "id": "574b0109",
   "metadata": {},
   "source": [
    "##### <font color='orange'>2.2.2.2 call url and get reposnse and change it to text "
   ]
  },
  {
   "cell_type": "code",
   "execution_count": null,
   "id": "1ca720d2",
   "metadata": {},
   "outputs": [],
   "source": [
    "response = requests.get('https://opendata.ecdc.europa.eu/covid19/nationalcasedeath_eueea_daily_ei/xml/').text"
   ]
  },
  {
   "cell_type": "markdown",
   "id": "9ae841a4",
   "metadata": {},
   "source": [
    "##### <font color='orange'>2.2.2.3 View the tags"
   ]
  },
  {
   "cell_type": "code",
   "execution_count": null,
   "id": "589b5885",
   "metadata": {},
   "outputs": [],
   "source": [
    "tree = bs(response, 'xml')\n",
    "print(tree)"
   ]
  },
  {
   "cell_type": "markdown",
   "id": "77c5982d",
   "metadata": {},
   "source": [
    "##### <font color='orange'>2.2.2.4 Use for loop in BS4 to get all tags"
   ]
  },
  {
   "cell_type": "code",
   "execution_count": null,
   "id": "f7b9cd13",
   "metadata": {},
   "outputs": [],
   "source": [
    "for tag in tree.findChildren():\n",
    "    print(tag.name)"
   ]
  },
  {
   "cell_type": "markdown",
   "id": "2a096ea8",
   "metadata": {},
   "source": [
    "##### <font color='orange'>2.2.2.5 Butify it"
   ]
  },
  {
   "cell_type": "code",
   "execution_count": null,
   "id": "68cb3f4f",
   "metadata": {},
   "outputs": [],
   "source": [
    "tree = bs(response, 'xml').prettify()\n",
    "print(tree)"
   ]
  },
  {
   "cell_type": "markdown",
   "id": "2f7fb4f3",
   "metadata": {},
   "source": [
    "##### <font color='orange'>2.2.2.6 get the child count of the document"
   ]
  },
  {
   "cell_type": "code",
   "execution_count": null,
   "id": "8ad2965b",
   "metadata": {},
   "outputs": [],
   "source": [
    "len(list(tree))"
   ]
  },
  {
   "cell_type": "markdown",
   "id": "f799ac23",
   "metadata": {},
   "source": [
    "##### <font color='orange'>2.2.2.7 Find a specific subchild text"
   ]
  },
  {
   "cell_type": "code",
   "execution_count": null,
   "id": "4b682b77",
   "metadata": {},
   "outputs": [],
   "source": [
    "tree = bs(response, 'xml')\n",
    "\n",
    "dateRep = tree.find_all('dateRep')\n",
    "countriesAndTerritories = tree.find_all('countriesAndTerritories')\n",
    "continentExp = tree.find_all('continentExp')\n",
    "popData2020 = tree.find_all('popData2020')\n",
    "cases= tree.find_all('cases')\n",
    "\n",
    "df_cols = ['date', 'country', 'continent', 'population', 'cases']\n",
    "rows = []\n",
    "for i in range(len(dateRep)): \n",
    "    row= [dateRep[i].get_text(), countriesAndTerritories[i].get_text(), continentExp[i].get_text(), popData2020[i].get_text(), cases[i].get_text(), ]\n",
    "    rows.append(row)\n",
    "df = pd.DataFrame(rows, columns = df_cols, dtype = float)\n",
    "df.head()"
   ]
  },
  {
   "cell_type": "markdown",
   "id": "89c8c555",
   "metadata": {},
   "source": [
    "## <font color='blue'>3 Import Data from a webpage"
   ]
  },
  {
   "cell_type": "markdown",
   "id": "4a731243",
   "metadata": {},
   "source": [
    "### <font color='green'>3 Import Table from a webpage"
   ]
  },
  {
   "cell_type": "markdown",
   "id": "551ca056",
   "metadata": {},
   "source": [
    "#### <font color='purple'>3.1.1 import libraries "
   ]
  },
  {
   "cell_type": "code",
   "execution_count": null,
   "id": "b95cb238",
   "metadata": {},
   "outputs": [],
   "source": [
    "import requests\n",
    "import pandas as pd"
   ]
  },
  {
   "cell_type": "markdown",
   "id": "24fdb0ac",
   "metadata": {},
   "source": [
    "#### <font color='purple'>3.1.2 call url"
   ]
  },
  {
   "cell_type": "code",
   "execution_count": null,
   "id": "ff0aaf06",
   "metadata": {},
   "outputs": [],
   "source": [
    "url='https://en.wikipedia.org/wiki/List_of_2018_box_office_number-one_films_in_France'\n",
    "req=requests.get(url)\n",
    "req.status_code"
   ]
  },
  {
   "cell_type": "markdown",
   "id": "1be1b146",
   "metadata": {},
   "source": [
    "#### <font color='purple'>3.1.3 read the response html file as text tables"
   ]
  },
  {
   "cell_type": "code",
   "execution_count": null,
   "id": "fc1e5ab5",
   "metadata": {},
   "outputs": [],
   "source": [
    "data=pd.read_html(req.text)"
   ]
  },
  {
   "cell_type": "markdown",
   "id": "a47c1038",
   "metadata": {},
   "source": [
    "#### <font color='purple'>3.1.4 Find how many tables in teh pages and query them for quick view"
   ]
  },
  {
   "cell_type": "code",
   "execution_count": null,
   "id": "96899f49",
   "metadata": {},
   "outputs": [],
   "source": [
    "print('number of tables are : ' + str(len(data)))\n",
    "for tables in data:\n",
    "    print(tables)"
   ]
  },
  {
   "cell_type": "markdown",
   "id": "9f542b10",
   "metadata": {},
   "source": [
    "#### <font color='purple'>3.1.5 import the table you want into a dataframe"
   ]
  },
  {
   "cell_type": "code",
   "execution_count": null,
   "id": "67a963e0",
   "metadata": {},
   "outputs": [],
   "source": [
    "df=data[0] #first table in the page\n",
    "df.head()"
   ]
  },
  {
   "cell_type": "markdown",
   "id": "85bfdb05",
   "metadata": {},
   "source": [
    "#### <font color='purple'>3.1.6 more examples"
   ]
  },
  {
   "cell_type": "code",
   "execution_count": null,
   "id": "e63ea5f5",
   "metadata": {},
   "outputs": [],
   "source": [
    "#importing the libraries\n",
    "import requests\n",
    "import pandas as pd\n",
    "\n",
    "url='http://www.omafra.gov.on.ca/english/engineer/facts/12-051.htm'\n",
    "req=requests.get(url)\n",
    "data=pd.read_html(req.text)\n",
    "for tables in data:\n",
    "    print(tables)\n",
    "    \n",
    "df=data[6] #first table in the page\n",
    "df.head()"
   ]
  },
  {
   "cell_type": "code",
   "execution_count": null,
   "id": "5b954e8f",
   "metadata": {},
   "outputs": [],
   "source": [
    "#importing the libraries\n",
    "import requests\n",
    "import pandas as pd\n",
    "\n",
    "url='https://www.worldometers.info/world-population/population-by-country/'\n",
    "req=requests.get(url)\n",
    "data=pd.read_html(req.text)\n",
    "for tables in data:\n",
    "    print(tables)\n",
    "    \n",
    "df=data[0] #first table in the page\n",
    "df.head()"
   ]
  },
  {
   "cell_type": "markdown",
   "id": "61463be6",
   "metadata": {},
   "source": [
    "### <font color='green'>3 Import data from a webpage using webscraping"
   ]
  },
  {
   "cell_type": "markdown",
   "id": "fc796b5a",
   "metadata": {},
   "source": [
    "#### <font color='purple'>3.1.1 import libraries "
   ]
  },
  {
   "cell_type": "code",
   "execution_count": null,
   "id": "bf4d854a",
   "metadata": {},
   "outputs": [],
   "source": [
    "import pandas as pd\n",
    "#import numpy as np\n",
    "#import matplotlib.pyplot as plt\n",
    "#import seaborn as sns\n",
    "#%matplotlib inline\n",
    "#import re\n",
    "#import time\n",
    "#from datetime import datetime\n",
    "#import matplotlib.dates as mdates\n",
    "#import matplotlib.ticker as ticker\n",
    "#from urllib.request import urlopen\n",
    "from bs4 import BeautifulSoup as bs\n",
    "import requests"
   ]
  },
  {
   "cell_type": "markdown",
   "id": "1842ca73",
   "metadata": {},
   "source": [
    "#### <font color='purple'>3.1.2 Example search Amazon best electroinc sellers and get back pages info"
   ]
  },
  {
   "cell_type": "code",
   "execution_count": null,
   "id": "303e8533",
   "metadata": {},
   "outputs": [],
   "source": [
    "df.head()"
   ]
  },
  {
   "cell_type": "markdown",
   "id": "e08989db",
   "metadata": {},
   "source": [
    "#### <font color='purple'> 3.1.3 Example search Amazon for any item and return the serach data using Selemium"
   ]
  },
  {
   "cell_type": "code",
   "execution_count": null,
   "id": "33aaf81b",
   "metadata": {},
   "outputs": [],
   "source": [
    "import csv\n",
    "from bs4 import BeautifulSoup\n",
    "from selenium import webdriver\n",
    "from webdriver_manager.chrome import ChromeDriverManager\n",
    "\n",
    "def extract(item):\n",
    "    atag = item.h2.a\n",
    "    description = atag.text.strip()\n",
    "    \n",
    "    url = 'https://www.amazon.com' + atag.get('href')\n",
    "    try:\n",
    "        price_parent = item.find('span','a-price')\n",
    "        price = price_parent.find('span','a-offscreen').text\n",
    "    except AttributeError:\n",
    "        return\n",
    "    \n",
    "    try:\n",
    "        rating = item.find('span',{'class': 'a-icon-alt'}).text\n",
    "        num_review = item.find('span',{'class': 'a-size-base'}).text\n",
    "    except:\n",
    "        rating = ''\n",
    "        num_review = 0\n",
    "    result = (description,price,rating,num_review,url)\n",
    "    \n",
    "    return result  \n",
    "\n",
    "search = widgets.Text(\n",
    "    value='Watch',\n",
    "    placeholder='Type something',\n",
    "    description='Search Text:',\n",
    "    disabled=False\n",
    ")\n",
    "recs = widgets.IntText(\n",
    "    value=7,\n",
    "    description='# of Pages:',\n",
    "    disabled=False\n",
    ")\n",
    "print('enter the serach item you want to search in Amazon, and the number od pages to serach')\n",
    "display(search, recs)"
   ]
  },
  {
   "cell_type": "code",
   "execution_count": null,
   "id": "e511267f",
   "metadata": {},
   "outputs": [],
   "source": [
    "\n",
    "#Create an extraction model that will retrieve the desired product information \n",
    "\n",
    "\n",
    "#Main program function where the the search and extract functions are used to apply the extraction model to the first 6 pages of amazon.\n",
    "#The data extracted is formatted and added to a csv file named after the desired product. \n",
    "#search_term = input('What would you like to search Amazon for? ')\n",
    "driver = webdriver.Chrome(ChromeDriverManager().install())\n",
    "    \n",
    "records = []\n",
    "general = 'https://www.amazon.com/s?k={}&ref=nb_sb_noss_2'\n",
    "new_search = (search.value).replace(' ', '+')\n",
    "new = general.format(new_search)\n",
    "new += '&page={}'\n",
    "#print('number of pages' + str(len(new)))\n",
    "for page in range(1,recs.value):\n",
    "    driver.get(new.format(page))\n",
    "    soup = BeautifulSoup(driver.page_source, 'html.parser')\n",
    "    results = soup.find_all('div',{'data-component-type':\"s-search-result\"})\n",
    "        \n",
    "    for i in results:\n",
    "        record = extract(i)\n",
    "        if record:\n",
    "            record =record+(page,)\n",
    "            records.append(record)\n",
    "driver.close()\n",
    "df = pd.DataFrame(records,columns=['description','Price','Rating','Review Count', 'URL', 'page'])\n",
    "print(len(df))\n",
    "df.head()"
   ]
  },
  {
   "cell_type": "code",
   "execution_count": null,
   "id": "3caae221",
   "metadata": {},
   "outputs": [],
   "source": [
    "field1 = widgets.Dropdown(\n",
    "    options=df.columns,\n",
    "    value=df.columns[1],\n",
    "    description='Select X',\n",
    "    disabled=False,\n",
    ")\n",
    "field2= widgets.Dropdown(\n",
    "    options=df.columns,\n",
    "    value=df.columns[5],\n",
    "    description='Select Y',\n",
    "    disabled=False,\n",
    ")\n",
    "display(field1, field2)\n",
    "output1=widgets.Output()\n",
    "output1\n",
    "def on_value_change(change):\n",
    "    with output1:\n",
    "        output1.clear_output()\n",
    "\n",
    "        plt.title(field1.label + \" VS \" + field2.label) \n",
    "        plt.xlabel(field1.label)\n",
    "        plt.ylabel(field2.label)\n",
    "        \n",
    "#         plt.plot(df[field1.value].values,df[field2.value].values, \n",
    "#                 'o', color='red')\n",
    "        plt.scatter(df[field1.value].values,df[field2.value].values,\n",
    "            c=df['Price'], cmap='viridis',\n",
    "            s=df['page'], linewidth=0, alpha=0.5)\n",
    "        plt.axis(aspect='equal')\n",
    "        plt.xlabel(field1.value)\n",
    "        plt.ylabel(field2.value)\n",
    "        plt.colorbar(label='log$_{10}$(df[field2.value])')\n",
    "        plt.clim(3, 7)\n",
    "        plt.title(field1.value+\" VS\" + field2.value)\n",
    "        \n",
    "#         fig =plt.figure(figsize=(12, 12))\n",
    "#         ax=plt.axes()\n",
    "#         ax.plot(daily[field1.value].values,daily[field2.value].values, \n",
    "#                 color='red', linestyle='dotted')\n",
    "\n",
    "field1.observe(on_value_change, names= 'value')\n",
    "field2.observe(on_value_change, names= 'value')"
   ]
  },
  {
   "cell_type": "code",
   "execution_count": null,
   "id": "9321d8a1",
   "metadata": {},
   "outputs": [],
   "source": [
    "from twython import Twython\n",
    "from collections import Counter\n",
    "twitter = Twython('jqZA4UAHAz37nZ1ZCGXlvCa7x', 'mDvxwVQUzCrqJoqVDeY1CicsKa6S0QfkZcZFUkjfzoHUwDcd4C')\n",
    "# search for tweets containing the phrase \"data science\"\n",
    "for status in twitter.search(q='\"data science\"')[\"statuses\"]:\n",
    "    user = status[\"user\"][\"screen_name\"].encode('utf-8')\n",
    "    text = status[\"text\"].encode('utf-8')\n",
    "    print(user, \":\", text)\n",
    "    print\n"
   ]
  },
  {
   "cell_type": "code",
   "execution_count": null,
   "id": "88b9ce9a",
   "metadata": {},
   "outputs": [],
   "source": [
    "from twython import TwythonStreamer\n",
    "# appending data to a global variable is pretty poor form\n",
    "# but it makes the example much simpler\n",
    "tweets = []\n",
    "class MyStreamer(TwythonStreamer):\n",
    "    \"\"\"our own subclass of TwythonStreamer that specifies how to interact with the stream\"\"\"\n",
    "    def on_success(self, data):\n",
    "        \"\"\"what do we do when twitter sends us data? here data will be a Python dict representing a tweet\"\"\"\n",
    "        # only want to collect English-language tweets\n",
    "        if data['lang'] == 'en':\n",
    "            tweets.append(data)\n",
    "            print(\"received tweet #\", len(tweets))\n",
    "        # stop when we've collected enough\n",
    "        if len(tweets) >= 100:\n",
    "            self.disconnect()\n",
    "    def on_error(self, status_code, data):\n",
    "        print(status_code, data)\n",
    "        self.disconnect()\n"
   ]
  },
  {
   "cell_type": "code",
   "execution_count": null,
   "id": "ad66e687",
   "metadata": {},
   "outputs": [],
   "source": [
    "#define how many pages to scape, usually best sellers of any item in Amazon are 2 pages\n",
    "\n",
    "no_pages = 2\n",
    "\n",
    "def get_data(pageNo):  \n",
    "   # Call teh page and get the response into a soup object\n",
    "    headers = {\"User-Agent\":\"Mozilla/5.0 (Windows NT 10.0; Win64; x64; rv:66.0) Gecko/20100101 Firefox/66.0\", \"Accept-Encoding\":\"gzip, deflate\", \"Accept\":\"text/html,application/xhtml+xml,application/xml;q=0.9,*/*;q=0.8\", \"DNT\":\"1\",\"Connection\":\"close\", \"Upgrade-Insecure-Requests\":\"1\"}\n",
    "\n",
    "    r = requests.get('https://www.amazon.ca/Best-Sellers-Electronics/zgbs/electronics/ref=zg_bs_pg_'+str(pageNo)+'?_encoding=UTF8&pg='+str(pageNo), headers=headers)#, proxies=proxies)\n",
    "    content = r.content\n",
    "    soup = bs(content)\n",
    "\n",
    "#loop throught the soup object and get certain tags that satisfy your needs, usuall look into the class of the tag that has the vlaue\n",
    "\n",
    "    alls = []\n",
    "    #fin the class of the tag that is common between all items\n",
    "    for d in soup.findAll('div', attrs={'class':'a-section a-spacing-none aok-relative'}):\n",
    "        #in that tag the childs will have the items you want\n",
    "        name = d.find('span', attrs={'class':'zg-text-center-align'}) #name of teh item\n",
    "        n = name.find_all('img', alt=True)\n",
    "        rating = d.find('span', attrs={'class':'a-icon-alt'}) # rating out of 5\n",
    "        users_rated = d.find('a', attrs={'class':'a-size-small a-link-normal'}) # total number of reviews\n",
    "        price = d.find('span', attrs={'class':'p13n-sc-price'})   # the price\n",
    "\n",
    "        all1=[]\n",
    "#set the condition to get the data back\n",
    "        if name is not None:\n",
    "            #print(n[0]['alt'])\n",
    "            all1.append(n[0]['alt'])\n",
    "        else:\n",
    "            all1.append(\"unknown-product\")\n",
    "        if rating is not None:\n",
    "            #print(rating.text)\n",
    "            all1.append(rating.text)\n",
    "        else:\n",
    "            all1.append('-1')\n",
    "\n",
    "        if users_rated is not None:\n",
    "            #print(price.text)\n",
    "            all1.append(users_rated.text)\n",
    "        else:\n",
    "            all1.append('0')     \n",
    "\n",
    "        if price is not None:\n",
    "            #print(price.text)\n",
    "            all1.append(price.text)\n",
    "        else:\n",
    "            all1.append('0')\n",
    "        alls.append(all1)        \n",
    "    return alls\n",
    "\n",
    "results = []\n",
    "#loop in number of pages and run the extract function\n",
    "for i in range(1, no_pages+1):\n",
    "    results.append(get_data(i))\n",
    "#format the output and save into a dataframe\n",
    "flatten = lambda l: [item for sublist in l for item in sublist]\n",
    "df = pd.DataFrame(flatten(results),columns=['Name','Rating','Customers_Rated', 'Price'])\n",
    "\n",
    "#you can save in a csv file for future use\n",
    "# df.to_csv('amazon_products.csv', index=False, encoding='utf-8')\n",
    "\n",
    "#A widget to select the rating of items to view them\n",
    "select_tech1 = widgets.Dropdown(\n",
    "    options=df['Rating'].unique(),\n",
    "    description='Select a Page:',\n",
    "    disabled=False\n",
    ")\n",
    "output=widgets.Output()\n",
    "display(select_tech1, output)\n",
    "def on_value_change(change):\n",
    "    with output:\n",
    "        output.clear_output()\n",
    "        df1 = df[df['Rating']==select_tech1.value]\n",
    "        print('You have ' + str(len(df1)) + ' products with that rating')\n",
    "        print(df1.head())\n",
    "#when change the value of drop down run teh function\n",
    "select_tech1.observe(on_value_change, names= 'value')"
   ]
  },
  {
   "cell_type": "code",
   "execution_count": null,
   "id": "baf21981",
   "metadata": {},
   "outputs": [],
   "source": [
    "stream = MyStreamer('jqZA4UAHAz37nZ1ZCGXlvCa7x', 'mDvxwVQUzCrqJoqVDeY1CicsKa6S0QfkZcZFUkjfzoHUwDcd4C',\n",
    "                    '3400351938-2jCJrqlUJU9Q70PuPkicpbcFs4xtycYkgcSOtql', 'lGEkEybXtqxvJPaB3RpllXPb7pDopfWtggtDCdiUh9Gu8')\n",
    "# starts consuming public statuses that contain the keyword 'data'\n",
    "stream.statuses.filter(track='data')\n",
    "# if instead we wanted to start consuming a sample of *all* public statuses\n",
    "# stream.statuses.sample()"
   ]
  },
  {
   "cell_type": "code",
   "execution_count": null,
   "id": "5c5f6386",
   "metadata": {},
   "outputs": [],
   "source": [
    "top_hashtags = Counter(hashtag['text'].lower()\n",
    "                       for tweet in tweets\n",
    "                       for hashtag in tweet[\"entities\"][\"hashtags\"])\n",
    "print(top_hashtags.most_common(10))"
   ]
  },
  {
   "cell_type": "markdown",
   "id": "77bc9726",
   "metadata": {},
   "source": [
    "## <font color='blue'>4 Working with json files"
   ]
  },
  {
   "cell_type": "markdown",
   "id": "dc812c3e",
   "metadata": {},
   "source": [
    "### 4.1 Local json files"
   ]
  },
  {
   "cell_type": "markdown",
   "id": "268118e2",
   "metadata": {},
   "source": [
    "#### <font color='purple'>4.1.1 Import libraries"
   ]
  },
  {
   "cell_type": "code",
   "execution_count": null,
   "id": "7b337918",
   "metadata": {},
   "outputs": [],
   "source": [
    "import json\n",
    "import pandas as pd"
   ]
  },
  {
   "cell_type": "markdown",
   "id": "acadbd27",
   "metadata": {},
   "source": [
    "#### <font color='purple'>4.1.2 Read json into a dataframe"
   ]
  },
  {
   "cell_type": "code",
   "execution_count": null,
   "id": "089da245",
   "metadata": {},
   "outputs": [],
   "source": [
    "df = pd.read_json('owid-covid-data.json').T\n",
    "df.head()"
   ]
  },
  {
   "cell_type": "markdown",
   "id": "1254cb71",
   "metadata": {},
   "source": [
    "### 4.2 Online json files"
   ]
  },
  {
   "cell_type": "markdown",
   "id": "310033dc",
   "metadata": {},
   "source": [
    "#### 4.2.1 Import libraries"
   ]
  },
  {
   "cell_type": "code",
   "execution_count": null,
   "id": "9998af62",
   "metadata": {},
   "outputs": [],
   "source": [
    "import json\n",
    "import requests\n",
    "import pandas as pd"
   ]
  },
  {
   "cell_type": "code",
   "execution_count": null,
   "id": "8a2fe996",
   "metadata": {},
   "outputs": [],
   "source": [
    "response = requests.get(\"https://raw.githubusercontent.com/owid/covid-19-data/master/public/data/owid-covid-data.json\")\n",
    "tree = response.json()\n",
    "print(tree.keys())"
   ]
  },
  {
   "cell_type": "code",
   "execution_count": null,
   "id": "5d98b932",
   "metadata": {},
   "outputs": [],
   "source": [
    "for countires in tree.keys():\n",
    "    #if tree.keys() =='AFG':\n",
    "        print(countries['data'])\n",
    "# data1 = data['data']\n",
    "# data1"
   ]
  },
  {
   "cell_type": "code",
   "execution_count": null,
   "id": "88bdcdb5",
   "metadata": {},
   "outputs": [],
   "source": [
    "df = pd.DataFrame(tree).T\n",
    "df.head()"
   ]
  },
  {
   "cell_type": "code",
   "execution_count": null,
   "id": "fd80245e",
   "metadata": {},
   "outputs": [],
   "source": [
    "r.content"
   ]
  },
  {
   "cell_type": "code",
   "execution_count": null,
   "id": "8b46daf2",
   "metadata": {},
   "outputs": [],
   "source": [
    "r.status_code"
   ]
  },
  {
   "cell_type": "code",
   "execution_count": null,
   "id": "0acfc5ce",
   "metadata": {},
   "outputs": [],
   "source": [
    "r.raw"
   ]
  },
  {
   "cell_type": "code",
   "execution_count": null,
   "id": "79c50b97",
   "metadata": {},
   "outputs": [],
   "source": [
    "r.raw.read(10)"
   ]
  },
  {
   "cell_type": "code",
   "execution_count": null,
   "id": "70f71171",
   "metadata": {},
   "outputs": [],
   "source": [
    "for head in r.headers:\n",
    "    print(head)"
   ]
  },
  {
   "cell_type": "code",
   "execution_count": null,
   "id": "dc2ddcbc",
   "metadata": {},
   "outputs": [],
   "source": [
    "r.headers['Content-Type']"
   ]
  },
  {
   "cell_type": "code",
   "execution_count": null,
   "id": "11d57248",
   "metadata": {},
   "outputs": [],
   "source": [
    "r.json"
   ]
  },
  {
   "cell_type": "markdown",
   "id": "f4f0199c",
   "metadata": {},
   "source": [
    "## <font color='blue'>5 Working with Parquet files"
   ]
  },
  {
   "cell_type": "code",
   "execution_count": null,
   "id": "7466568b",
   "metadata": {},
   "outputs": [],
   "source": [
    "df= pd.read_parquet('userdata1.parquet')\n",
    "df.head()"
   ]
  },
  {
   "cell_type": "code",
   "execution_count": null,
   "id": "3ecf9b51",
   "metadata": {},
   "outputs": [],
   "source": [
    "df= pd.read_parquet('https://github.com/Teradata/kylo/blob/master/samples/sample-data/parquet/userdata1.parquet?raw=true')\n",
    "df.head()"
   ]
  },
  {
   "cell_type": "markdown",
   "id": "d94d1be2",
   "metadata": {},
   "source": [
    "## <font color='blue'>6 Working with pdf files"
   ]
  },
  {
   "cell_type": "code",
   "execution_count": null,
   "id": "ffb77f4b",
   "metadata": {},
   "outputs": [],
   "source": [
    "import PyPDF2\n",
    "import tabula"
   ]
  },
  {
   "cell_type": "code",
   "execution_count": null,
   "id": "60118925",
   "metadata": {},
   "outputs": [],
   "source": [
    "dfList = tabula.read_pdf(\"https://github.com/chezou/tabula-py/raw/master/tests/resources/data.pdf\", pages='all', stream=True)\n",
    "len(dfList)"
   ]
  },
  {
   "cell_type": "code",
   "execution_count": null,
   "id": "1c2fb636",
   "metadata": {},
   "outputs": [],
   "source": [
    "dfList[0]"
   ]
  },
  {
   "cell_type": "code",
   "execution_count": null,
   "id": "255e92be",
   "metadata": {},
   "outputs": [],
   "source": [
    "df =pd.DataFrame(dfList[0])"
   ]
  },
  {
   "cell_type": "code",
   "execution_count": null,
   "id": "d4268084",
   "metadata": {},
   "outputs": [],
   "source": [
    "df = df.rename(columns = {'Unnamed: 0':'Models'})\n",
    "df"
   ]
  },
  {
   "cell_type": "code",
   "execution_count": null,
   "id": "b0c76eed",
   "metadata": {},
   "outputs": [],
   "source": [
    "pdfFile = open('data.pdf', 'rb')\n",
    "pdfReader = PyPDF2.PdfFileReader(pdfFile)\n",
    "print(pdfReader.numPages)"
   ]
  },
  {
   "cell_type": "code",
   "execution_count": null,
   "id": "55cd21e5",
   "metadata": {},
   "outputs": [],
   "source": [
    "pages = pdfReader.getPage(0)\n",
    "page1= pages.extractText()\n",
    "page1"
   ]
  },
  {
   "cell_type": "markdown",
   "id": "469d359b",
   "metadata": {},
   "source": [
    "## <font color='blue'>7 Working with data from Word files"
   ]
  },
  {
   "cell_type": "code",
   "execution_count": null,
   "id": "c466ebc9",
   "metadata": {},
   "outputs": [],
   "source": [
    "from docx import Document\n",
    "document = Document('data.docx')"
   ]
  },
  {
   "cell_type": "code",
   "execution_count": null,
   "id": "388fab2f",
   "metadata": {},
   "outputs": [],
   "source": [
    "dataTable = document.tables[0]\n",
    "print(len(dataTable.rows),len(dataTable.columns))"
   ]
  },
  {
   "cell_type": "code",
   "execution_count": null,
   "id": "4d5fd32d",
   "metadata": {},
   "outputs": [],
   "source": [
    "tableCells =[]\n",
    "for row in dataTable.rows:\n",
    "    for cell in row.cells:\n",
    "        for text in cell.paragraphs:\n",
    "            tableCells.append(text.text)\n",
    "len(tableCells)\n",
    "tableCells[0]='Models'"
   ]
  },
  {
   "cell_type": "code",
   "execution_count": null,
   "id": "4e5ba4a0",
   "metadata": {},
   "outputs": [],
   "source": [
    "cellsArray=np.array(tableCells)\n",
    "cellsArrayReshaped=cellsArray.reshape(33,12)\n",
    "df=pd.DataFrame(cellsArrayReshaped)\n",
    "df.columns = df.iloc[0]\n",
    "df=df.drop(df.index [ [ 0 ] ])\n",
    "df"
   ]
  },
  {
   "cell_type": "markdown",
   "id": "703c6e4a",
   "metadata": {},
   "source": [
    "## <font color='blue'>8 Working with ORC files"
   ]
  },
  {
   "cell_type": "code",
   "execution_count": null,
   "id": "5ce53bd0",
   "metadata": {},
   "outputs": [],
   "source": [
    "import findspark\n",
    "from pyspark.sql import SparkSession\n",
    "\n",
    "findspark.init()\n",
    "spark = SparkSession.builder.getOrCreate()\n",
    "df_spark = spark.read.orc('userdata1_orc')\n",
    "df_pandas = df_spark.toPandas()"
   ]
  },
  {
   "cell_type": "markdown",
   "id": "6581499f",
   "metadata": {},
   "source": [
    "## <font color='blue'>9 Working with AVRO files"
   ]
  },
  {
   "cell_type": "code",
   "execution_count": null,
   "id": "f81f5f60",
   "metadata": {},
   "outputs": [],
   "source": [
    "import copy\n",
    "import json\n",
    "import avro\n",
    "from avro.datafile import DataFileReader\n",
    "from avro.io import DatumReader"
   ]
  },
  {
   "cell_type": "code",
   "execution_count": null,
   "id": "f7981e8b",
   "metadata": {},
   "outputs": [],
   "source": [
    "# Read data from an avro file\n",
    "with open('covtypeNorm_binary.avro', 'rb') as f:\n",
    "    reader = DataFileReader(f, DatumReader())\n",
    "    metadata = copy.deepcopy(reader.meta)\n",
    "    schema = json.loads(metadata['avro.schema'])"
   ]
  },
  {
   "cell_type": "code",
   "execution_count": null,
   "id": "9c7c872b",
   "metadata": {},
   "outputs": [],
   "source": [
    "print(metadata)"
   ]
  },
  {
   "cell_type": "code",
   "execution_count": null,
   "id": "8737f981",
   "metadata": {},
   "outputs": [],
   "source": [
    "print(schema_from_file)"
   ]
  },
  {
   "cell_type": "code",
   "execution_count": null,
   "id": "24ae784a",
   "metadata": {},
   "outputs": [],
   "source": [
    "# Read data from an avro file\n",
    "with open('covtypeNorm_binary.avro', 'rb') as f:\n",
    "    reader = DataFileReader(f, DatumReader())\n",
    "    records = [record for record in reader]\n",
    "    df = pd.DataFrame.from_records(records)"
   ]
  },
  {
   "cell_type": "code",
   "execution_count": null,
   "id": "417f194b",
   "metadata": {},
   "outputs": [],
   "source": [
    "df.head()"
   ]
  },
  {
   "cell_type": "code",
   "execution_count": null,
   "id": "07cd7ecd",
   "metadata": {},
   "outputs": [],
   "source": [
    "# Read data from an avro file\n",
    "with open('covtypeNorm_binary.avro', 'rb') as f:\n",
    "    reader = DataFileReader(f, DatumReader())\n",
    "    metadata = copy.deepcopy(reader.meta)\n",
    "    schema = json.loads(metadata['avro.schema'])"
   ]
  },
  {
   "cell_type": "code",
   "execution_count": null,
   "id": "449212c4",
   "metadata": {},
   "outputs": [],
   "source": [
    "print(metadata)"
   ]
  },
  {
   "cell_type": "code",
   "execution_count": null,
   "id": "36941a39",
   "metadata": {},
   "outputs": [],
   "source": [
    "print(schema)"
   ]
  },
  {
   "cell_type": "code",
   "execution_count": null,
   "id": "7ef5e569",
   "metadata": {},
   "outputs": [],
   "source": [
    "# Read data from an avro file\n",
    "with open('covtypeNorm_binary.avro', 'rb') as f:\n",
    "    reader = DataFileReader(f, DatumReader())\n",
    "    records = [record for record in reader]\n",
    "    df = pd.DataFrame.from_records(records)"
   ]
  },
  {
   "cell_type": "code",
   "execution_count": null,
   "id": "6262ef8a",
   "metadata": {},
   "outputs": [],
   "source": [
    "df.head()"
   ]
  },
  {
   "cell_type": "markdown",
   "id": "9fb2fc8f",
   "metadata": {},
   "source": [
    "## <font color='blue'>10 Working with YAML files"
   ]
  },
  {
   "cell_type": "code",
   "execution_count": null,
   "id": "2912ca77",
   "metadata": {},
   "outputs": [],
   "source": [
    "import yaml\n",
    "from yaml.loader import SafeLoader\n",
    "import pandas as pd\n",
    "\n",
    "# Open the file and load the file\n",
    "with open('Ansible_Network_Facts_Demo.yml', 'r') as f:\n",
    "    data = yaml.load(f, Loader=SafeLoader)\n",
    "    print(data)"
   ]
  },
  {
   "cell_type": "code",
   "execution_count": null,
   "id": "045c1d25",
   "metadata": {},
   "outputs": [],
   "source": [
    "with open('Ansible_Network_Facts_Demo.yml', 'r') as f:\n",
    "    df = pd.io.json.json_normalize(yaml.load(f),'tasks')\n",
    "\n",
    "df.head(20)"
   ]
  },
  {
   "cell_type": "markdown",
   "id": "1108f099",
   "metadata": {},
   "source": [
    "## <font color='blue'>11 Data from API's response"
   ]
  },
  {
   "cell_type": "code",
   "execution_count": null,
   "id": "fac0ec75",
   "metadata": {},
   "outputs": [],
   "source": []
  },
  {
   "cell_type": "code",
   "execution_count": null,
   "id": "e9eb22b7",
   "metadata": {},
   "outputs": [],
   "source": [
    "import requests"
   ]
  },
  {
   "cell_type": "code",
   "execution_count": null,
   "id": "6c1cfc68",
   "metadata": {},
   "outputs": [],
   "source": []
  },
  {
   "cell_type": "code",
   "execution_count": null,
   "id": "6ffdfa29",
   "metadata": {},
   "outputs": [],
   "source": [
    "url = 'https://api.covidtracking.com/v1/us/daily.json'\n",
    "covidUS = requests.get(url)\n",
    "covidUS.status_code"
   ]
  },
  {
   "cell_type": "code",
   "execution_count": null,
   "id": "d423752e",
   "metadata": {},
   "outputs": [],
   "source": [
    "covidUSjson = json.loads(covidUS.text)\n",
    "print(covidUSjson)"
   ]
  },
  {
   "cell_type": "code",
   "execution_count": null,
   "id": "fc9f5aa5",
   "metadata": {},
   "outputs": [],
   "source": [
    "dfcovidUS=pd.DataFrame(covidUSjson)\n",
    "dfcovidUS.head()"
   ]
  },
  {
   "cell_type": "code",
   "execution_count": null,
   "id": "8da72537",
   "metadata": {},
   "outputs": [],
   "source": [
    "url = 'https://api.publicapis.org/entries'\n",
    "facts = requests.get(url)\n",
    "facts.status_code"
   ]
  },
  {
   "cell_type": "code",
   "execution_count": null,
   "id": "91e721fb",
   "metadata": {},
   "outputs": [],
   "source": [
    "factsjson = json.loads(facts.text)\n",
    "print(factsjson)"
   ]
  },
  {
   "cell_type": "code",
   "execution_count": null,
   "id": "7edf9360",
   "metadata": {},
   "outputs": [],
   "source": [
    "dffacts=pd.json_normalize(factsjson['entries'])\n",
    "dffacts.head()"
   ]
  },
  {
   "cell_type": "markdown",
   "id": "14a55d0b",
   "metadata": {},
   "source": [
    "## <font color='blue'>12 Data from Database tables"
   ]
  },
  {
   "cell_type": "markdown",
   "id": "853370bf",
   "metadata": {},
   "source": [
    "### <font color='green'>12.1 Working with postgresSQL"
   ]
  },
  {
   "cell_type": "markdown",
   "id": "602c7584",
   "metadata": {},
   "source": [
    "#### <font color='purple'>12.1.1 Import Libraries"
   ]
  },
  {
   "cell_type": "code",
   "execution_count": null,
   "id": "d316247b",
   "metadata": {},
   "outputs": [],
   "source": [
    "import getpass\n",
    "import psycopg2\n",
    "import pandas as pd"
   ]
  },
  {
   "cell_type": "markdown",
   "id": "e458db42",
   "metadata": {},
   "source": [
    "#### <font color='purple'>12.1.2 setup any hidden fields for provacy an security"
   ]
  },
  {
   "cell_type": "code",
   "execution_count": null,
   "id": "6f832aed",
   "metadata": {},
   "outputs": [],
   "source": [
    "secret = getpass.getpass('Enter your password')"
   ]
  },
  {
   "cell_type": "markdown",
   "id": "9e1d26b2",
   "metadata": {},
   "source": [
    "#### <font color='purple'>12.1.3 setup connection object to the database and read all tables"
   ]
  },
  {
   "cell_type": "code",
   "execution_count": null,
   "id": "b871aa0e",
   "metadata": {},
   "outputs": [],
   "source": [
    "connection=None\n",
    "try:\n",
    "    connection = psycopg2.connect(database=\"postgres\", user=\"postgres\", password=secret, host=\"helpinghands.cyeidebt9eaj.us-east-2.rds.amazonaws.com\", port=\"5432\")\n",
    "\n",
    "    print(\"Database opened successfully\")\n",
    "\n",
    "    cursor = connection.cursor()\n",
    "    cursor.execute(\"select relname from pg_class where relkind='r' and relname !~ '^(pg_|sql_)';\")\n",
    "    tables = cursor.fetchall()\n",
    "    for table in tables:\n",
    "        print(table)\n",
    "except (Exception, psycopg2.Error) as error:\n",
    "    print(\"Error while connecting to PostgreSQL\", error)"
   ]
  },
  {
   "cell_type": "markdown",
   "id": "48c758df",
   "metadata": {},
   "source": [
    "#### <font color='purple'>12.1.4 Read the table required to a dataframe"
   ]
  },
  {
   "cell_type": "code",
   "execution_count": null,
   "id": "0002b5f8",
   "metadata": {},
   "outputs": [],
   "source": [
    "df = pd.read_sql_query(\"SELECT * from task\",con=connection)\n",
    "df.head()"
   ]
  },
  {
   "cell_type": "markdown",
   "id": "32fb6cdf",
   "metadata": {},
   "source": [
    "#### <font color='purple'>12.1.5 close database connection and cursor"
   ]
  },
  {
   "cell_type": "code",
   "execution_count": null,
   "id": "4eb211b2",
   "metadata": {},
   "outputs": [],
   "source": [
    "if connection:\n",
    "    cursor.close()\n",
    "    connection.close()\n",
    "    print(\"PostgreSQL connection is closed\")"
   ]
  },
  {
   "cell_type": "markdown",
   "id": "2e876713",
   "metadata": {},
   "source": [
    "### <font color='green'>12.2 Working with Sqlite3"
   ]
  },
  {
   "cell_type": "markdown",
   "id": "30fa4990",
   "metadata": {},
   "source": [
    "#### <font color='purple'>12.2.1 close database connection and cursor"
   ]
  },
  {
   "cell_type": "code",
   "execution_count": null,
   "id": "ef3e88fa",
   "metadata": {},
   "outputs": [],
   "source": [
    "import sqlite3\n",
    "import pandas as pd"
   ]
  },
  {
   "cell_type": "markdown",
   "id": "8133c910",
   "metadata": {},
   "source": [
    "#### <font color='purple'>12.2.2 setup connection object to the database and read all tables"
   ]
  },
  {
   "cell_type": "code",
   "execution_count": null,
   "id": "0c4cdf8d",
   "metadata": {},
   "outputs": [],
   "source": [
    "connection = Null\n",
    "try:\n",
    "    connection = sqlite3.connect('Chinook_Sqlite.sqlite')\n",
    "    cursor = connection.cursor()\n",
    "    print(\"Opened database successfully\")\n",
    "\n",
    "    tables=cursor.execute(\"SELECT * FROM sqlite_master where type='table'\")\n",
    "\n",
    "    for table in tables.fetchall():\n",
    "        print(table,'\\n')\n",
    "except (Exception, psycopg2.Error) as error:\n",
    "    print(\"Error while connecting to PostgreSQL\", error)"
   ]
  },
  {
   "cell_type": "markdown",
   "id": "c2618d17",
   "metadata": {},
   "source": [
    "#### <font color='purple'>12.2.3 Read the table required to a dataframe"
   ]
  },
  {
   "cell_type": "code",
   "execution_count": null,
   "id": "4de33b44",
   "metadata": {},
   "outputs": [],
   "source": [
    "df = pd.read_sql_query(\"SELECT * from Customer\", con =connection)\n",
    "df.head()"
   ]
  },
  {
   "cell_type": "markdown",
   "id": "7fef5652",
   "metadata": {},
   "source": [
    "#### <font color='purple'>12.2.4 close database connection and cursor"
   ]
  },
  {
   "cell_type": "code",
   "execution_count": null,
   "id": "25a8c1e1",
   "metadata": {},
   "outputs": [],
   "source": [
    "if connection:\n",
    "    cursor.close()\n",
    "    connection.close()\n",
    "    print(\"sqlite3 connection is closed\")"
   ]
  },
  {
   "cell_type": "code",
   "execution_count": null,
   "id": "868965f5",
   "metadata": {},
   "outputs": [],
   "source": []
  }
 ],
 "metadata": {
  "kernelspec": {
   "display_name": "Python 3",
   "language": "python",
   "name": "python3"
  },
  "language_info": {
   "codemirror_mode": {
    "name": "ipython",
    "version": 3
   },
   "file_extension": ".py",
   "mimetype": "text/x-python",
   "name": "python",
   "nbconvert_exporter": "python",
   "pygments_lexer": "ipython3",
   "version": "3.6.13"
  }
 },
 "nbformat": 4,
 "nbformat_minor": 5
}
